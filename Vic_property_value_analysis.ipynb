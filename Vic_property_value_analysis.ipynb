{
 "cells": [
  {
   "cell_type": "code",
   "execution_count": 7,
   "id": "e1de31ec",
   "metadata": {},
   "outputs": [],
   "source": [
    "from selenium import webdriver\n",
    "from selenium.webdriver.chrome.service import Service\n",
    "from webdriver_manager.chrome import ChromeDriverManager\n",
    "from selenium.webdriver.common.by import By\n",
    "from bs4 import BeautifulSoup"
   ]
  },
  {
   "cell_type": "code",
   "execution_count": 1,
   "id": "3ba1cb7e",
   "metadata": {},
   "outputs": [],
   "source": [
    "import pandas as pd\n",
    "import matplotlib.pyplot as plt\n",
    "import numpy as np\n",
    "import seaborn as sns"
   ]
  },
  {
   "cell_type": "markdown",
   "id": "6dd11bba",
   "metadata": {},
   "source": [
    "### Use Selenium to Scrape Property Data"
   ]
  },
  {
   "cell_type": "code",
   "execution_count": 2,
   "id": "13147e5c",
   "metadata": {
    "scrolled": false
   },
   "outputs": [
    {
     "name": "stderr",
     "output_type": "stream",
     "text": [
      "[WDM] - Downloading: 100%|█████████████████| 7.40M/7.40M [00:00<00:00, 8.07MB/s]\n"
     ]
    }
   ],
   "source": [
    "driver = webdriver.Chrome(service=Service(ChromeDriverManager().install()))"
   ]
  },
  {
   "cell_type": "code",
   "execution_count": 3,
   "id": "2e3c4639",
   "metadata": {},
   "outputs": [],
   "source": [
    "url = 'https://victoriamarket.ca/sold/victoria-home-sales'"
   ]
  },
  {
   "cell_type": "code",
   "execution_count": 4,
   "id": "7e3f288a",
   "metadata": {},
   "outputs": [],
   "source": [
    "driver.get(url)"
   ]
  },
  {
   "cell_type": "code",
   "execution_count": 10,
   "id": "24ebb12c",
   "metadata": {},
   "outputs": [],
   "source": [
    "properties = []"
   ]
  },
  {
   "cell_type": "code",
   "execution_count": 11,
   "id": "acfa306d",
   "metadata": {},
   "outputs": [],
   "source": [
    "def grab_property_data():\n",
    "    global properties\n",
    "    content = driver.page_source\n",
    "    soup = BeautifulSoup(content)\n",
    "    props_odd = soup.find_all(class_='odd')\n",
    "    props_even = soup.find_all(class_='even')\n",
    "    properties = properties + props_odd + props_even"
   ]
  },
  {
   "cell_type": "code",
   "execution_count": 96,
   "id": "f7608091",
   "metadata": {},
   "outputs": [],
   "source": [
    "grab_property_data()"
   ]
  },
  {
   "cell_type": "code",
   "execution_count": 97,
   "id": "6fc0f925",
   "metadata": {},
   "outputs": [
    {
     "data": {
      "text/plain": [
       "15062"
      ]
     },
     "execution_count": 97,
     "metadata": {},
     "output_type": "execute_result"
    }
   ],
   "source": [
    "len(properties)"
   ]
  },
  {
   "cell_type": "code",
   "execution_count": 98,
   "id": "a6cf3e1b",
   "metadata": {},
   "outputs": [
    {
     "data": {
      "text/plain": [
       "<tr class=\"odd\" role=\"row\"><td style=\"display: none;\">927966</td><td class=\"column-address dtr-control\">1034 Johnson St # 803, Victoria BC V8V 3N7</td><td>Vi Downtown</td><td class=\"text-right\">$590,000</td><td class=\"red-highlight text-right\">$585,000</td><td class=\"text-right\">2</td><td class=\"text-right\" style=\"display: none;\">2</td><td class=\"text-right\">1,134 sf.</td><td class=\"text-right\" style=\"display: none;\">1,107 sf.</td><td class=\"text-right\" style=\"display: none;\">1983</td><td>2023-04-11</td><td class=\"text-right\">51</td><td class=\"sorting_1\">2023-07-10</td><td style=\"display: none;\">Corner Lot, Rectangular Lot, Serviced</td><td style=\"display: none;\">City</td><td style=\"display: none;\">Pemberton Holmes - Cloverdale</td><td style=\"display: none;\">RE/MAX Camosun</td></tr>"
      ]
     },
     "execution_count": 98,
     "metadata": {},
     "output_type": "execute_result"
    }
   ],
   "source": [
    "properties[0]"
   ]
  },
  {
   "cell_type": "markdown",
   "id": "33111090",
   "metadata": {},
   "source": [
    "#### Pull property data from scraped data"
   ]
  },
  {
   "cell_type": "code",
   "execution_count": 100,
   "id": "f5e2e910",
   "metadata": {},
   "outputs": [],
   "source": [
    "property_detail_list = []\n",
    "\n",
    "for property in properties:\n",
    "    prop = property.find_all('td')\n",
    "    p_list = []\n",
    "    details = {}\n",
    "    \n",
    "    for p in prop:\n",
    "        p_list.append(p.get_text())\n",
    "    \n",
    "    details = {'MLS#':p_list[0], 'Address':p_list[1], 'Area':p_list[2], 'Sold_date':p_list[12], 'Price':p_list[4], 'Beds':p_list[5], 'Baths':p_list[6], 'Sqft':p_list[7], 'Lot':p_list[8], 'Built':p_list[9], 'Desc':p_list[13]}\n",
    "    \n",
    "    property_detail_list.append(details)"
   ]
  },
  {
   "cell_type": "code",
   "execution_count": 103,
   "id": "01fedb26",
   "metadata": {
    "scrolled": true
   },
   "outputs": [],
   "source": [
    "vic_prop_df = pd.DataFrame(property_detail_list)"
   ]
  },
  {
   "cell_type": "code",
   "execution_count": 37,
   "id": "f24d8ad7",
   "metadata": {
    "scrolled": true
   },
   "outputs": [],
   "source": [
    "vic_prop_df = prop_df"
   ]
  },
  {
   "cell_type": "code",
   "execution_count": 38,
   "id": "e12ed576",
   "metadata": {},
   "outputs": [],
   "source": [
    "drop_values = vic_prop_df.loc[vic_prop_df.Built == '-']\n",
    "vic_prop_df = vic_prop_df.drop(drop_values.index)"
   ]
  },
  {
   "cell_type": "code",
   "execution_count": 39,
   "id": "cad80835",
   "metadata": {},
   "outputs": [],
   "source": [
    "def clean_data(x):\n",
    "    \n",
    "    x = x.replace('$', '')\n",
    "\n",
    "    x = x.replace(',', '')\n",
    "\n",
    "    x = x.replace('sf.', '')\n",
    "    \n",
    "    return x"
   ]
  },
  {
   "cell_type": "code",
   "execution_count": 40,
   "id": "b58117f8",
   "metadata": {
    "scrolled": true
   },
   "outputs": [
    {
     "ename": "AttributeError",
     "evalue": "'float' object has no attribute 'replace'",
     "output_type": "error",
     "traceback": [
      "\u001b[0;31m---------------------------------------------------------------------------\u001b[0m",
      "\u001b[0;31mAttributeError\u001b[0m                            Traceback (most recent call last)",
      "Cell \u001b[0;32mIn[40], line 1\u001b[0m\n\u001b[0;32m----> 1\u001b[0m vic_prop_df[[\u001b[38;5;124m'\u001b[39m\u001b[38;5;124mPrice\u001b[39m\u001b[38;5;124m'\u001b[39m, \u001b[38;5;124m'\u001b[39m\u001b[38;5;124mBeds\u001b[39m\u001b[38;5;124m'\u001b[39m, \u001b[38;5;124m'\u001b[39m\u001b[38;5;124mBaths\u001b[39m\u001b[38;5;124m'\u001b[39m, \u001b[38;5;124m'\u001b[39m\u001b[38;5;124mSqft\u001b[39m\u001b[38;5;124m'\u001b[39m, \u001b[38;5;124m'\u001b[39m\u001b[38;5;124mLot\u001b[39m\u001b[38;5;124m'\u001b[39m, \u001b[38;5;124m'\u001b[39m\u001b[38;5;124mBuilt\u001b[39m\u001b[38;5;124m'\u001b[39m]] \u001b[38;5;241m=\u001b[39m \u001b[43mvic_prop_df\u001b[49m\u001b[43m[\u001b[49m\u001b[43m[\u001b[49m\u001b[38;5;124;43m'\u001b[39;49m\u001b[38;5;124;43mPrice\u001b[39;49m\u001b[38;5;124;43m'\u001b[39;49m\u001b[43m,\u001b[49m\u001b[43m \u001b[49m\u001b[38;5;124;43m'\u001b[39;49m\u001b[38;5;124;43mBeds\u001b[39;49m\u001b[38;5;124;43m'\u001b[39;49m\u001b[43m,\u001b[49m\u001b[43m \u001b[49m\u001b[38;5;124;43m'\u001b[39;49m\u001b[38;5;124;43mBaths\u001b[39;49m\u001b[38;5;124;43m'\u001b[39;49m\u001b[43m,\u001b[49m\u001b[43m \u001b[49m\u001b[38;5;124;43m'\u001b[39;49m\u001b[38;5;124;43mSqft\u001b[39;49m\u001b[38;5;124;43m'\u001b[39;49m\u001b[43m,\u001b[49m\u001b[43m \u001b[49m\u001b[38;5;124;43m'\u001b[39;49m\u001b[38;5;124;43mLot\u001b[39;49m\u001b[38;5;124;43m'\u001b[39;49m\u001b[43m,\u001b[49m\u001b[43m \u001b[49m\u001b[38;5;124;43m'\u001b[39;49m\u001b[38;5;124;43mBuilt\u001b[39;49m\u001b[38;5;124;43m'\u001b[39;49m\u001b[43m]\u001b[49m\u001b[43m]\u001b[49m\u001b[38;5;241;43m.\u001b[39;49m\u001b[43mapplymap\u001b[49m\u001b[43m(\u001b[49m\u001b[43mclean_data\u001b[49m\u001b[43m)\u001b[49m\n",
      "File \u001b[0;32m~/.pyenv/versions/3.11.2/lib/python3.11/site-packages/pandas/core/frame.py:9508\u001b[0m, in \u001b[0;36mDataFrame.applymap\u001b[0;34m(self, func, na_action, **kwargs)\u001b[0m\n\u001b[1;32m   9505\u001b[0m         \u001b[38;5;28;01mreturn\u001b[39;00m lib\u001b[38;5;241m.\u001b[39mmap_infer(x, func, ignore_na\u001b[38;5;241m=\u001b[39mignore_na)\n\u001b[1;32m   9506\u001b[0m     \u001b[38;5;28;01mreturn\u001b[39;00m lib\u001b[38;5;241m.\u001b[39mmap_infer(x\u001b[38;5;241m.\u001b[39mastype(\u001b[38;5;28mobject\u001b[39m)\u001b[38;5;241m.\u001b[39m_values, func, ignore_na\u001b[38;5;241m=\u001b[39mignore_na)\n\u001b[0;32m-> 9508\u001b[0m \u001b[38;5;28;01mreturn\u001b[39;00m \u001b[38;5;28;43mself\u001b[39;49m\u001b[38;5;241;43m.\u001b[39;49m\u001b[43mapply\u001b[49m\u001b[43m(\u001b[49m\u001b[43minfer\u001b[49m\u001b[43m)\u001b[49m\u001b[38;5;241m.\u001b[39m__finalize__(\u001b[38;5;28mself\u001b[39m, \u001b[38;5;124m\"\u001b[39m\u001b[38;5;124mapplymap\u001b[39m\u001b[38;5;124m\"\u001b[39m)\n",
      "File \u001b[0;32m~/.pyenv/versions/3.11.2/lib/python3.11/site-packages/pandas/core/frame.py:9423\u001b[0m, in \u001b[0;36mDataFrame.apply\u001b[0;34m(self, func, axis, raw, result_type, args, **kwargs)\u001b[0m\n\u001b[1;32m   9412\u001b[0m \u001b[38;5;28;01mfrom\u001b[39;00m \u001b[38;5;21;01mpandas\u001b[39;00m\u001b[38;5;21;01m.\u001b[39;00m\u001b[38;5;21;01mcore\u001b[39;00m\u001b[38;5;21;01m.\u001b[39;00m\u001b[38;5;21;01mapply\u001b[39;00m \u001b[38;5;28;01mimport\u001b[39;00m frame_apply\n\u001b[1;32m   9414\u001b[0m op \u001b[38;5;241m=\u001b[39m frame_apply(\n\u001b[1;32m   9415\u001b[0m     \u001b[38;5;28mself\u001b[39m,\n\u001b[1;32m   9416\u001b[0m     func\u001b[38;5;241m=\u001b[39mfunc,\n\u001b[0;32m   (...)\u001b[0m\n\u001b[1;32m   9421\u001b[0m     kwargs\u001b[38;5;241m=\u001b[39mkwargs,\n\u001b[1;32m   9422\u001b[0m )\n\u001b[0;32m-> 9423\u001b[0m \u001b[38;5;28;01mreturn\u001b[39;00m \u001b[43mop\u001b[49m\u001b[38;5;241;43m.\u001b[39;49m\u001b[43mapply\u001b[49m\u001b[43m(\u001b[49m\u001b[43m)\u001b[49m\u001b[38;5;241m.\u001b[39m__finalize__(\u001b[38;5;28mself\u001b[39m, method\u001b[38;5;241m=\u001b[39m\u001b[38;5;124m\"\u001b[39m\u001b[38;5;124mapply\u001b[39m\u001b[38;5;124m\"\u001b[39m)\n",
      "File \u001b[0;32m~/.pyenv/versions/3.11.2/lib/python3.11/site-packages/pandas/core/apply.py:678\u001b[0m, in \u001b[0;36mFrameApply.apply\u001b[0;34m(self)\u001b[0m\n\u001b[1;32m    675\u001b[0m \u001b[38;5;28;01melif\u001b[39;00m \u001b[38;5;28mself\u001b[39m\u001b[38;5;241m.\u001b[39mraw:\n\u001b[1;32m    676\u001b[0m     \u001b[38;5;28;01mreturn\u001b[39;00m \u001b[38;5;28mself\u001b[39m\u001b[38;5;241m.\u001b[39mapply_raw()\n\u001b[0;32m--> 678\u001b[0m \u001b[38;5;28;01mreturn\u001b[39;00m \u001b[38;5;28;43mself\u001b[39;49m\u001b[38;5;241;43m.\u001b[39;49m\u001b[43mapply_standard\u001b[49m\u001b[43m(\u001b[49m\u001b[43m)\u001b[49m\n",
      "File \u001b[0;32m~/.pyenv/versions/3.11.2/lib/python3.11/site-packages/pandas/core/apply.py:798\u001b[0m, in \u001b[0;36mFrameApply.apply_standard\u001b[0;34m(self)\u001b[0m\n\u001b[1;32m    797\u001b[0m \u001b[38;5;28;01mdef\u001b[39;00m \u001b[38;5;21mapply_standard\u001b[39m(\u001b[38;5;28mself\u001b[39m):\n\u001b[0;32m--> 798\u001b[0m     results, res_index \u001b[38;5;241m=\u001b[39m \u001b[38;5;28;43mself\u001b[39;49m\u001b[38;5;241;43m.\u001b[39;49m\u001b[43mapply_series_generator\u001b[49m\u001b[43m(\u001b[49m\u001b[43m)\u001b[49m\n\u001b[1;32m    800\u001b[0m     \u001b[38;5;66;03m# wrap results\u001b[39;00m\n\u001b[1;32m    801\u001b[0m     \u001b[38;5;28;01mreturn\u001b[39;00m \u001b[38;5;28mself\u001b[39m\u001b[38;5;241m.\u001b[39mwrap_results(results, res_index)\n",
      "File \u001b[0;32m~/.pyenv/versions/3.11.2/lib/python3.11/site-packages/pandas/core/apply.py:814\u001b[0m, in \u001b[0;36mFrameApply.apply_series_generator\u001b[0;34m(self)\u001b[0m\n\u001b[1;32m    811\u001b[0m \u001b[38;5;28;01mwith\u001b[39;00m option_context(\u001b[38;5;124m\"\u001b[39m\u001b[38;5;124mmode.chained_assignment\u001b[39m\u001b[38;5;124m\"\u001b[39m, \u001b[38;5;28;01mNone\u001b[39;00m):\n\u001b[1;32m    812\u001b[0m     \u001b[38;5;28;01mfor\u001b[39;00m i, v \u001b[38;5;129;01min\u001b[39;00m \u001b[38;5;28menumerate\u001b[39m(series_gen):\n\u001b[1;32m    813\u001b[0m         \u001b[38;5;66;03m# ignore SettingWithCopy here in case the user mutates\u001b[39;00m\n\u001b[0;32m--> 814\u001b[0m         results[i] \u001b[38;5;241m=\u001b[39m \u001b[38;5;28;43mself\u001b[39;49m\u001b[38;5;241;43m.\u001b[39;49m\u001b[43mf\u001b[49m\u001b[43m(\u001b[49m\u001b[43mv\u001b[49m\u001b[43m)\u001b[49m\n\u001b[1;32m    815\u001b[0m         \u001b[38;5;28;01mif\u001b[39;00m \u001b[38;5;28misinstance\u001b[39m(results[i], ABCSeries):\n\u001b[1;32m    816\u001b[0m             \u001b[38;5;66;03m# If we have a view on v, we need to make a copy because\u001b[39;00m\n\u001b[1;32m    817\u001b[0m             \u001b[38;5;66;03m#  series_generator will swap out the underlying data\u001b[39;00m\n\u001b[1;32m    818\u001b[0m             results[i] \u001b[38;5;241m=\u001b[39m results[i]\u001b[38;5;241m.\u001b[39mcopy(deep\u001b[38;5;241m=\u001b[39m\u001b[38;5;28;01mFalse\u001b[39;00m)\n",
      "File \u001b[0;32m~/.pyenv/versions/3.11.2/lib/python3.11/site-packages/pandas/core/frame.py:9506\u001b[0m, in \u001b[0;36mDataFrame.applymap.<locals>.infer\u001b[0;34m(x)\u001b[0m\n\u001b[1;32m   9504\u001b[0m \u001b[38;5;28;01mif\u001b[39;00m x\u001b[38;5;241m.\u001b[39mempty:\n\u001b[1;32m   9505\u001b[0m     \u001b[38;5;28;01mreturn\u001b[39;00m lib\u001b[38;5;241m.\u001b[39mmap_infer(x, func, ignore_na\u001b[38;5;241m=\u001b[39mignore_na)\n\u001b[0;32m-> 9506\u001b[0m \u001b[38;5;28;01mreturn\u001b[39;00m \u001b[43mlib\u001b[49m\u001b[38;5;241;43m.\u001b[39;49m\u001b[43mmap_infer\u001b[49m\u001b[43m(\u001b[49m\u001b[43mx\u001b[49m\u001b[38;5;241;43m.\u001b[39;49m\u001b[43mastype\u001b[49m\u001b[43m(\u001b[49m\u001b[38;5;28;43mobject\u001b[39;49m\u001b[43m)\u001b[49m\u001b[38;5;241;43m.\u001b[39;49m\u001b[43m_values\u001b[49m\u001b[43m,\u001b[49m\u001b[43m \u001b[49m\u001b[43mfunc\u001b[49m\u001b[43m,\u001b[49m\u001b[43m \u001b[49m\u001b[43mignore_na\u001b[49m\u001b[38;5;241;43m=\u001b[39;49m\u001b[43mignore_na\u001b[49m\u001b[43m)\u001b[49m\n",
      "File \u001b[0;32m~/.pyenv/versions/3.11.2/lib/python3.11/site-packages/pandas/_libs/lib.pyx:2834\u001b[0m, in \u001b[0;36mpandas._libs.lib.map_infer\u001b[0;34m()\u001b[0m\n",
      "Cell \u001b[0;32mIn[39], line 3\u001b[0m, in \u001b[0;36mclean_data\u001b[0;34m(x)\u001b[0m\n\u001b[1;32m      1\u001b[0m \u001b[38;5;28;01mdef\u001b[39;00m \u001b[38;5;21mclean_data\u001b[39m(x):\n\u001b[0;32m----> 3\u001b[0m     x \u001b[38;5;241m=\u001b[39m \u001b[43mx\u001b[49m\u001b[38;5;241;43m.\u001b[39;49m\u001b[43mreplace\u001b[49m(\u001b[38;5;124m'\u001b[39m\u001b[38;5;124m$\u001b[39m\u001b[38;5;124m'\u001b[39m, \u001b[38;5;124m'\u001b[39m\u001b[38;5;124m'\u001b[39m)\n\u001b[1;32m      5\u001b[0m     x \u001b[38;5;241m=\u001b[39m x\u001b[38;5;241m.\u001b[39mreplace(\u001b[38;5;124m'\u001b[39m\u001b[38;5;124m,\u001b[39m\u001b[38;5;124m'\u001b[39m, \u001b[38;5;124m'\u001b[39m\u001b[38;5;124m'\u001b[39m)\n\u001b[1;32m      7\u001b[0m     x \u001b[38;5;241m=\u001b[39m x\u001b[38;5;241m.\u001b[39mreplace(\u001b[38;5;124m'\u001b[39m\u001b[38;5;124msf.\u001b[39m\u001b[38;5;124m'\u001b[39m, \u001b[38;5;124m'\u001b[39m\u001b[38;5;124m'\u001b[39m)\n",
      "\u001b[0;31mAttributeError\u001b[0m: 'float' object has no attribute 'replace'"
     ]
    }
   ],
   "source": [
    "vic_prop_df[['Price', 'Beds', 'Baths', 'Sqft', 'Lot', 'Built']] = vic_prop_df[['Price', 'Beds', 'Baths', 'Sqft', 'Lot', 'Built']].applymap(clean_data)"
   ]
  },
  {
   "cell_type": "code",
   "execution_count": 111,
   "id": "454dd7f2",
   "metadata": {},
   "outputs": [],
   "source": [
    "vic_prop_df[['Sqft', 'Price', 'Lot']] = vic_prop_df[['Sqft', 'Price', 'Lot']].astype(float)"
   ]
  },
  {
   "cell_type": "code",
   "execution_count": 123,
   "id": "d0365aaf",
   "metadata": {},
   "outputs": [],
   "source": [
    "vic_prop_df[['Beds', 'Baths', 'Built']] = vic_prop_df[['Beds', 'Baths', 'Built']].astype(int)"
   ]
  },
  {
   "cell_type": "code",
   "execution_count": 42,
   "id": "e9e8512f",
   "metadata": {},
   "outputs": [],
   "source": [
    "empty = (vic_prop_df.loc[vic_prop_df.Built == ''])\n",
    "vic_prop_df = vic_prop_df.drop(empty.index)"
   ]
  },
  {
   "cell_type": "code",
   "execution_count": 43,
   "id": "ff38e46e",
   "metadata": {},
   "outputs": [],
   "source": [
    "vic_prop_df['Sold_date'] = pd.to_datetime(vic_prop_df['Sold_date'])"
   ]
  },
  {
   "cell_type": "code",
   "execution_count": 171,
   "id": "b82ce8dd",
   "metadata": {
    "scrolled": true
   },
   "outputs": [
    {
     "data": {
      "text/html": [
       "<div>\n",
       "<style scoped>\n",
       "    .dataframe tbody tr th:only-of-type {\n",
       "        vertical-align: middle;\n",
       "    }\n",
       "\n",
       "    .dataframe tbody tr th {\n",
       "        vertical-align: top;\n",
       "    }\n",
       "\n",
       "    .dataframe thead th {\n",
       "        text-align: right;\n",
       "    }\n",
       "</style>\n",
       "<table border=\"1\" class=\"dataframe\">\n",
       "  <thead>\n",
       "    <tr style=\"text-align: right;\">\n",
       "      <th></th>\n",
       "      <th>MLS#</th>\n",
       "      <th>Address</th>\n",
       "      <th>Area</th>\n",
       "      <th>Sold_date</th>\n",
       "      <th>Price</th>\n",
       "      <th>Beds</th>\n",
       "      <th>Baths</th>\n",
       "      <th>Sqft</th>\n",
       "      <th>Lot</th>\n",
       "      <th>Built</th>\n",
       "      <th>Desc</th>\n",
       "      <th>PC</th>\n",
       "      <th>House_type</th>\n",
       "      <th>Year</th>\n",
       "      <th>Month</th>\n",
       "      <th>Street_address</th>\n",
       "      <th>Street_num</th>\n",
       "      <th>Street_name</th>\n",
       "      <th>Count</th>\n",
       "    </tr>\n",
       "  </thead>\n",
       "  <tbody>\n",
       "    <tr>\n",
       "      <th>564</th>\n",
       "      <td>923963</td>\n",
       "      <td>770 Fisgard St # 502, Victoria BC V8W 0B8</td>\n",
       "      <td>Vi Downtown</td>\n",
       "      <td>2023-04-06</td>\n",
       "      <td>925000.0</td>\n",
       "      <td>2</td>\n",
       "      <td>2</td>\n",
       "      <td>1129.0</td>\n",
       "      <td>1129.0</td>\n",
       "      <td>2010</td>\n",
       "      <td>Irregular Lot</td>\n",
       "      <td>V8W</td>\n",
       "      <td>Condo</td>\n",
       "      <td>2023</td>\n",
       "      <td>4</td>\n",
       "      <td>770 Fisgard</td>\n",
       "      <td>770</td>\n",
       "      <td>Fisgard</td>\n",
       "      <td>157</td>\n",
       "    </tr>\n",
       "    <tr>\n",
       "      <th>4165</th>\n",
       "      <td>861133</td>\n",
       "      <td>770 Fisgard St # 313, Victoria BC V8W 0B8</td>\n",
       "      <td>Vi Downtown</td>\n",
       "      <td>2021-01-07</td>\n",
       "      <td>410000.0</td>\n",
       "      <td>1</td>\n",
       "      <td>1</td>\n",
       "      <td>636.0</td>\n",
       "      <td>556.0</td>\n",
       "      <td>2010</td>\n",
       "      <td>Central Location</td>\n",
       "      <td>V8W</td>\n",
       "      <td>Condo</td>\n",
       "      <td>2021</td>\n",
       "      <td>1</td>\n",
       "      <td>770 Fisgard</td>\n",
       "      <td>770</td>\n",
       "      <td>Fisgard</td>\n",
       "      <td>157</td>\n",
       "    </tr>\n",
       "    <tr>\n",
       "      <th>3958</th>\n",
       "      <td>863549</td>\n",
       "      <td>770 Fisgard St # 440, Victoria BC V8W 0B8</td>\n",
       "      <td>Vi Downtown</td>\n",
       "      <td>2021-01-25</td>\n",
       "      <td>575000.0</td>\n",
       "      <td>2</td>\n",
       "      <td>0</td>\n",
       "      <td>1021.0</td>\n",
       "      <td>929.0</td>\n",
       "      <td>2010</td>\n",
       "      <td>Rectangular Lot</td>\n",
       "      <td>V8W</td>\n",
       "      <td>Condo</td>\n",
       "      <td>2021</td>\n",
       "      <td>1</td>\n",
       "      <td>770 Fisgard</td>\n",
       "      <td>770</td>\n",
       "      <td>Fisgard</td>\n",
       "      <td>157</td>\n",
       "    </tr>\n",
       "    <tr>\n",
       "      <th>11352</th>\n",
       "      <td>717406</td>\n",
       "      <td>770 Fisgard St # 330, Victoria BC V8W 0B8</td>\n",
       "      <td>Vi Downtown</td>\n",
       "      <td>2016-04-12</td>\n",
       "      <td>323900.0</td>\n",
       "      <td>1</td>\n",
       "      <td>1</td>\n",
       "      <td>723.0</td>\n",
       "      <td>723.0</td>\n",
       "      <td>2010</td>\n",
       "      <td>Rectangular Lot</td>\n",
       "      <td>V8W</td>\n",
       "      <td>Condo</td>\n",
       "      <td>2016</td>\n",
       "      <td>4</td>\n",
       "      <td>770 Fisgard</td>\n",
       "      <td>770</td>\n",
       "      <td>Fisgard</td>\n",
       "      <td>157</td>\n",
       "    </tr>\n",
       "    <tr>\n",
       "      <th>3931</th>\n",
       "      <td>855262</td>\n",
       "      <td>770 Fisgard St # 435, Victoria BC V8W 3M9</td>\n",
       "      <td>Vi Downtown</td>\n",
       "      <td>2021-02-01</td>\n",
       "      <td>612500.0</td>\n",
       "      <td>2</td>\n",
       "      <td>2</td>\n",
       "      <td>938.0</td>\n",
       "      <td>938.0</td>\n",
       "      <td>2010</td>\n",
       "      <td>Rectangular Lot</td>\n",
       "      <td>V8W</td>\n",
       "      <td>Condo</td>\n",
       "      <td>2021</td>\n",
       "      <td>2</td>\n",
       "      <td>770 Fisgard</td>\n",
       "      <td>770</td>\n",
       "      <td>Fisgard</td>\n",
       "      <td>157</td>\n",
       "    </tr>\n",
       "    <tr>\n",
       "      <th>...</th>\n",
       "      <td>...</td>\n",
       "      <td>...</td>\n",
       "      <td>...</td>\n",
       "      <td>...</td>\n",
       "      <td>...</td>\n",
       "      <td>...</td>\n",
       "      <td>...</td>\n",
       "      <td>...</td>\n",
       "      <td>...</td>\n",
       "      <td>...</td>\n",
       "      <td>...</td>\n",
       "      <td>...</td>\n",
       "      <td>...</td>\n",
       "      <td>...</td>\n",
       "      <td>...</td>\n",
       "      <td>...</td>\n",
       "      <td>...</td>\n",
       "      <td>...</td>\n",
       "      <td>...</td>\n",
       "    </tr>\n",
       "    <tr>\n",
       "      <th>11846</th>\n",
       "      <td>715554</td>\n",
       "      <td>1442 Denman St, Victoria BC V8R 1X6</td>\n",
       "      <td>Vi Fernwood</td>\n",
       "      <td>2016-02-01</td>\n",
       "      <td>450000.0</td>\n",
       "      <td>2</td>\n",
       "      <td>2</td>\n",
       "      <td>1864.0</td>\n",
       "      <td>5227.0</td>\n",
       "      <td>1957</td>\n",
       "      <td>Rectangular Lot</td>\n",
       "      <td>V8R</td>\n",
       "      <td>House</td>\n",
       "      <td>2016</td>\n",
       "      <td>2</td>\n",
       "      <td>1442 Denman</td>\n",
       "      <td>1442</td>\n",
       "      <td>Denman</td>\n",
       "      <td>1</td>\n",
       "    </tr>\n",
       "    <tr>\n",
       "      <th>11847</th>\n",
       "      <td>716717</td>\n",
       "      <td>3176 Fifth St, Victoria BC V8X 1E7</td>\n",
       "      <td>Vi Mayfair</td>\n",
       "      <td>2016-02-01</td>\n",
       "      <td>600000.0</td>\n",
       "      <td>3</td>\n",
       "      <td>2</td>\n",
       "      <td>2393.0</td>\n",
       "      <td>6837.0</td>\n",
       "      <td>1946</td>\n",
       "      <td>Level, Rectangular Lot</td>\n",
       "      <td>V8X</td>\n",
       "      <td>House</td>\n",
       "      <td>2016</td>\n",
       "      <td>2</td>\n",
       "      <td>3176 Fifth</td>\n",
       "      <td>3176</td>\n",
       "      <td>Fifth</td>\n",
       "      <td>1</td>\n",
       "    </tr>\n",
       "    <tr>\n",
       "      <th>11848</th>\n",
       "      <td>717337</td>\n",
       "      <td>2501 Avebury Ave, Victoria BC V8R 3W1</td>\n",
       "      <td>Vi Fernwood</td>\n",
       "      <td>2016-02-01</td>\n",
       "      <td>475000.0</td>\n",
       "      <td>2</td>\n",
       "      <td>1</td>\n",
       "      <td>2026.0</td>\n",
       "      <td>3227.0</td>\n",
       "      <td>1912</td>\n",
       "      <td>Corner Lot, Level, Rectangular Lot, Wooded</td>\n",
       "      <td>V8R</td>\n",
       "      <td>House</td>\n",
       "      <td>2016</td>\n",
       "      <td>2</td>\n",
       "      <td>2501 Avebury</td>\n",
       "      <td>2501</td>\n",
       "      <td>Avebury</td>\n",
       "      <td>1</td>\n",
       "    </tr>\n",
       "    <tr>\n",
       "      <th>11850</th>\n",
       "      <td>718291</td>\n",
       "      <td>1747 Emerson St, Victoria BC V8R 2C2</td>\n",
       "      <td>Vi Jubilee</td>\n",
       "      <td>2016-02-01</td>\n",
       "      <td>515000.0</td>\n",
       "      <td>4</td>\n",
       "      <td>2</td>\n",
       "      <td>2023.0</td>\n",
       "      <td>3150.0</td>\n",
       "      <td>1913</td>\n",
       "      <td>Cleared, Level, Private, Rectangular Lot</td>\n",
       "      <td>V8R</td>\n",
       "      <td>House</td>\n",
       "      <td>2016</td>\n",
       "      <td>2</td>\n",
       "      <td>1747 Emerson</td>\n",
       "      <td>1747</td>\n",
       "      <td>Emerson</td>\n",
       "      <td>1</td>\n",
       "    </tr>\n",
       "    <tr>\n",
       "      <th>15016</th>\n",
       "      <td>636260</td>\n",
       "      <td>2658 Belmont Ave, Victoria BC V8R 4A6</td>\n",
       "      <td>Vi Oaklands</td>\n",
       "      <td>2013-07-30</td>\n",
       "      <td>490000.0</td>\n",
       "      <td>3</td>\n",
       "      <td>2</td>\n",
       "      <td>1697.0</td>\n",
       "      <td>5500.0</td>\n",
       "      <td>1942</td>\n",
       "      <td>Rectangular Lot</td>\n",
       "      <td>V8R</td>\n",
       "      <td>House</td>\n",
       "      <td>2013</td>\n",
       "      <td>7</td>\n",
       "      <td>2658 Belmont</td>\n",
       "      <td>2658</td>\n",
       "      <td>Belmont</td>\n",
       "      <td>1</td>\n",
       "    </tr>\n",
       "  </tbody>\n",
       "</table>\n",
       "<p>14975 rows × 19 columns</p>\n",
       "</div>"
      ],
      "text/plain": [
       "         MLS#                                    Address         Area  \\\n",
       "564    923963  770 Fisgard St # 502, Victoria BC V8W 0B8  Vi Downtown   \n",
       "4165   861133  770 Fisgard St # 313, Victoria BC V8W 0B8  Vi Downtown   \n",
       "3958   863549  770 Fisgard St # 440, Victoria BC V8W 0B8  Vi Downtown   \n",
       "11352  717406  770 Fisgard St # 330, Victoria BC V8W 0B8  Vi Downtown   \n",
       "3931   855262  770 Fisgard St # 435, Victoria BC V8W 3M9  Vi Downtown   \n",
       "...       ...                                        ...          ...   \n",
       "11846  715554        1442 Denman St, Victoria BC V8R 1X6  Vi Fernwood   \n",
       "11847  716717         3176 Fifth St, Victoria BC V8X 1E7   Vi Mayfair   \n",
       "11848  717337      2501 Avebury Ave, Victoria BC V8R 3W1  Vi Fernwood   \n",
       "11850  718291       1747 Emerson St, Victoria BC V8R 2C2   Vi Jubilee   \n",
       "15016  636260      2658 Belmont Ave, Victoria BC V8R 4A6  Vi Oaklands   \n",
       "\n",
       "       Sold_date     Price  Beds  Baths    Sqft     Lot  Built  \\\n",
       "564   2023-04-06  925000.0     2      2  1129.0  1129.0   2010   \n",
       "4165  2021-01-07  410000.0     1      1   636.0   556.0   2010   \n",
       "3958  2021-01-25  575000.0     2      0  1021.0   929.0   2010   \n",
       "11352 2016-04-12  323900.0     1      1   723.0   723.0   2010   \n",
       "3931  2021-02-01  612500.0     2      2   938.0   938.0   2010   \n",
       "...          ...       ...   ...    ...     ...     ...    ...   \n",
       "11846 2016-02-01  450000.0     2      2  1864.0  5227.0   1957   \n",
       "11847 2016-02-01  600000.0     3      2  2393.0  6837.0   1946   \n",
       "11848 2016-02-01  475000.0     2      1  2026.0  3227.0   1912   \n",
       "11850 2016-02-01  515000.0     4      2  2023.0  3150.0   1913   \n",
       "15016 2013-07-30  490000.0     3      2  1697.0  5500.0   1942   \n",
       "\n",
       "                                             Desc   PC House_type  Year  \\\n",
       "564                                 Irregular Lot  V8W      Condo  2023   \n",
       "4165                             Central Location  V8W      Condo  2021   \n",
       "3958                              Rectangular Lot  V8W      Condo  2021   \n",
       "11352                             Rectangular Lot  V8W      Condo  2016   \n",
       "3931                              Rectangular Lot  V8W      Condo  2021   \n",
       "...                                           ...  ...        ...   ...   \n",
       "11846                             Rectangular Lot  V8R      House  2016   \n",
       "11847                      Level, Rectangular Lot  V8X      House  2016   \n",
       "11848  Corner Lot, Level, Rectangular Lot, Wooded  V8R      House  2016   \n",
       "11850    Cleared, Level, Private, Rectangular Lot  V8R      House  2016   \n",
       "15016                             Rectangular Lot  V8R      House  2013   \n",
       "\n",
       "       Month Street_address Street_num Street_name  Count  \n",
       "564        4    770 Fisgard        770     Fisgard    157  \n",
       "4165       1    770 Fisgard        770     Fisgard    157  \n",
       "3958       1    770 Fisgard        770     Fisgard    157  \n",
       "11352      4    770 Fisgard        770     Fisgard    157  \n",
       "3931       2    770 Fisgard        770     Fisgard    157  \n",
       "...      ...            ...        ...         ...    ...  \n",
       "11846      2    1442 Denman       1442      Denman      1  \n",
       "11847      2     3176 Fifth       3176       Fifth      1  \n",
       "11848      2   2501 Avebury       2501     Avebury      1  \n",
       "11850      2   1747 Emerson       1747     Emerson      1  \n",
       "15016      7   2658 Belmont       2658     Belmont      1  \n",
       "\n",
       "[14975 rows x 19 columns]"
      ]
     },
     "execution_count": 171,
     "metadata": {},
     "output_type": "execute_result"
    }
   ],
   "source": [
    "vic_prop_df.sort_values('Count', ascending=False)"
   ]
  },
  {
   "cell_type": "code",
   "execution_count": 176,
   "id": "b58def97",
   "metadata": {
    "scrolled": true
   },
   "outputs": [
    {
     "data": {
      "text/html": [
       "<div>\n",
       "<style scoped>\n",
       "    .dataframe tbody tr th:only-of-type {\n",
       "        vertical-align: middle;\n",
       "    }\n",
       "\n",
       "    .dataframe tbody tr th {\n",
       "        vertical-align: top;\n",
       "    }\n",
       "\n",
       "    .dataframe thead th {\n",
       "        text-align: right;\n",
       "    }\n",
       "</style>\n",
       "<table border=\"1\" class=\"dataframe\">\n",
       "  <thead>\n",
       "    <tr style=\"text-align: right;\">\n",
       "      <th></th>\n",
       "      <th>MLS#</th>\n",
       "      <th>Address</th>\n",
       "      <th>Area</th>\n",
       "      <th>Sold_date</th>\n",
       "      <th>Price</th>\n",
       "      <th>Beds</th>\n",
       "      <th>Baths</th>\n",
       "      <th>Sqft</th>\n",
       "      <th>Lot</th>\n",
       "      <th>Built</th>\n",
       "      <th>Desc</th>\n",
       "      <th>PC</th>\n",
       "      <th>House_type</th>\n",
       "      <th>Year</th>\n",
       "      <th>Month</th>\n",
       "      <th>Street_address</th>\n",
       "      <th>Street_num</th>\n",
       "      <th>Street_name</th>\n",
       "      <th>Count</th>\n",
       "    </tr>\n",
       "  </thead>\n",
       "  <tbody>\n",
       "    <tr>\n",
       "      <th>0</th>\n",
       "      <td>927966</td>\n",
       "      <td>1034 Johnson St # 803, Victoria BC V8V 3N7</td>\n",
       "      <td>Vi Downtown</td>\n",
       "      <td>2023-07-10</td>\n",
       "      <td>585000.0</td>\n",
       "      <td>2</td>\n",
       "      <td>2</td>\n",
       "      <td>1134.00</td>\n",
       "      <td>1107.0</td>\n",
       "      <td>1983</td>\n",
       "      <td>Corner Lot, Rectangular Lot, Serviced</td>\n",
       "      <td>V8V</td>\n",
       "      <td>Condo</td>\n",
       "      <td>2023</td>\n",
       "      <td>7</td>\n",
       "      <td>1034 Johnson</td>\n",
       "      <td>1034</td>\n",
       "      <td>Johnson</td>\n",
       "      <td>28</td>\n",
       "    </tr>\n",
       "    <tr>\n",
       "      <th>1</th>\n",
       "      <td>934902</td>\n",
       "      <td>755 Hillside Ave # 406, Victoria BC V8T 5B3</td>\n",
       "      <td>Vi Hillside</td>\n",
       "      <td>2023-07-10</td>\n",
       "      <td>415000.0</td>\n",
       "      <td>2</td>\n",
       "      <td>1</td>\n",
       "      <td>1088.00</td>\n",
       "      <td>1088.0</td>\n",
       "      <td>1982</td>\n",
       "      <td>Irregular Lot</td>\n",
       "      <td>V8T</td>\n",
       "      <td>Condo</td>\n",
       "      <td>2023</td>\n",
       "      <td>7</td>\n",
       "      <td>755 Hillside</td>\n",
       "      <td>755</td>\n",
       "      <td>Hillside</td>\n",
       "      <td>20</td>\n",
       "    </tr>\n",
       "    <tr>\n",
       "      <th>2</th>\n",
       "      <td>927416</td>\n",
       "      <td>3160 Irma St # 106, Victoria BC V9A 1S8</td>\n",
       "      <td>Vi Burnside</td>\n",
       "      <td>2023-07-10</td>\n",
       "      <td>375000.0</td>\n",
       "      <td>1</td>\n",
       "      <td>1</td>\n",
       "      <td>892.00</td>\n",
       "      <td>774.0</td>\n",
       "      <td>1972</td>\n",
       "      <td>Level, Private, Serviced</td>\n",
       "      <td>V9A</td>\n",
       "      <td>Condo</td>\n",
       "      <td>2023</td>\n",
       "      <td>7</td>\n",
       "      <td>3160 Irma</td>\n",
       "      <td>3160</td>\n",
       "      <td>Irma</td>\n",
       "      <td>7</td>\n",
       "    </tr>\n",
       "    <tr>\n",
       "      <th>3</th>\n",
       "      <td>931182</td>\n",
       "      <td>1975 Lee Ave # 209, Victoria BC V8R 4W9</td>\n",
       "      <td>Vi Jubilee</td>\n",
       "      <td>2023-07-10</td>\n",
       "      <td>365000.0</td>\n",
       "      <td>1</td>\n",
       "      <td>1</td>\n",
       "      <td>642.71</td>\n",
       "      <td>617.0</td>\n",
       "      <td>1958</td>\n",
       "      <td>Rectangular Lot</td>\n",
       "      <td>V8R</td>\n",
       "      <td>Condo</td>\n",
       "      <td>2023</td>\n",
       "      <td>7</td>\n",
       "      <td>1975 Lee</td>\n",
       "      <td>1975</td>\n",
       "      <td>Lee</td>\n",
       "      <td>31</td>\n",
       "    </tr>\n",
       "    <tr>\n",
       "      <th>4</th>\n",
       "      <td>926214</td>\n",
       "      <td>1170 Rockland Ave # 304, Victoria BC V8V 3H7</td>\n",
       "      <td>Vi Downtown</td>\n",
       "      <td>2023-07-07</td>\n",
       "      <td>565000.0</td>\n",
       "      <td>2</td>\n",
       "      <td>2</td>\n",
       "      <td>1064.00</td>\n",
       "      <td>981.0</td>\n",
       "      <td>1977</td>\n",
       "      <td>Central Location, Easy Access, Recreation Near...</td>\n",
       "      <td>V8V</td>\n",
       "      <td>Condo</td>\n",
       "      <td>2023</td>\n",
       "      <td>7</td>\n",
       "      <td>1170 Rockland</td>\n",
       "      <td>1170</td>\n",
       "      <td>Rockland</td>\n",
       "      <td>19</td>\n",
       "    </tr>\n",
       "    <tr>\n",
       "      <th>...</th>\n",
       "      <td>...</td>\n",
       "      <td>...</td>\n",
       "      <td>...</td>\n",
       "      <td>...</td>\n",
       "      <td>...</td>\n",
       "      <td>...</td>\n",
       "      <td>...</td>\n",
       "      <td>...</td>\n",
       "      <td>...</td>\n",
       "      <td>...</td>\n",
       "      <td>...</td>\n",
       "      <td>...</td>\n",
       "      <td>...</td>\n",
       "      <td>...</td>\n",
       "      <td>...</td>\n",
       "      <td>...</td>\n",
       "      <td>...</td>\n",
       "      <td>...</td>\n",
       "      <td>...</td>\n",
       "    </tr>\n",
       "    <tr>\n",
       "      <th>15009</th>\n",
       "      <td>645937</td>\n",
       "      <td>647 Michigan St # 1507, Victoria BC V8V 1S9</td>\n",
       "      <td>Vi James Bay</td>\n",
       "      <td>2013-08-06</td>\n",
       "      <td>152000.0</td>\n",
       "      <td>0</td>\n",
       "      <td>1</td>\n",
       "      <td>450.00</td>\n",
       "      <td>450.0</td>\n",
       "      <td>1969</td>\n",
       "      <td>Rectangular Lot, Serviced</td>\n",
       "      <td>V8V</td>\n",
       "      <td>Condo</td>\n",
       "      <td>2013</td>\n",
       "      <td>8</td>\n",
       "      <td>647 Michigan</td>\n",
       "      <td>647</td>\n",
       "      <td>Michigan</td>\n",
       "      <td>123</td>\n",
       "    </tr>\n",
       "    <tr>\n",
       "      <th>15011</th>\n",
       "      <td>643703</td>\n",
       "      <td>1052 Rockland Ave # 304, Victoria BC V8V 3H5</td>\n",
       "      <td>Vi Downtown</td>\n",
       "      <td>2013-07-31</td>\n",
       "      <td>239000.0</td>\n",
       "      <td>2</td>\n",
       "      <td>2</td>\n",
       "      <td>1213.00</td>\n",
       "      <td>1077.0</td>\n",
       "      <td>1977</td>\n",
       "      <td>Irregular Lot</td>\n",
       "      <td>V8V</td>\n",
       "      <td>Condo</td>\n",
       "      <td>2013</td>\n",
       "      <td>7</td>\n",
       "      <td>1052 Rockland</td>\n",
       "      <td>1052</td>\n",
       "      <td>Rockland</td>\n",
       "      <td>9</td>\n",
       "    </tr>\n",
       "    <tr>\n",
       "      <th>15013</th>\n",
       "      <td>636474</td>\n",
       "      <td>21 Erie St # 414, Victoria BC V8V 5A8</td>\n",
       "      <td>Vi James Bay</td>\n",
       "      <td>2013-07-31</td>\n",
       "      <td>389000.0</td>\n",
       "      <td>1</td>\n",
       "      <td>1</td>\n",
       "      <td>902.00</td>\n",
       "      <td>902.0</td>\n",
       "      <td>2004</td>\n",
       "      <td>Rectangular Lot</td>\n",
       "      <td>V8V</td>\n",
       "      <td>Condo</td>\n",
       "      <td>2013</td>\n",
       "      <td>7</td>\n",
       "      <td>21 Erie</td>\n",
       "      <td>21</td>\n",
       "      <td>Erie</td>\n",
       "      <td>57</td>\n",
       "    </tr>\n",
       "    <tr>\n",
       "      <th>15014</th>\n",
       "      <td>645377</td>\n",
       "      <td>707 Courtney St # 901, Victoria BC V8W 0A9</td>\n",
       "      <td>Vi Downtown</td>\n",
       "      <td>2013-07-31</td>\n",
       "      <td>336500.0</td>\n",
       "      <td>1</td>\n",
       "      <td>1</td>\n",
       "      <td>803.00</td>\n",
       "      <td>803.0</td>\n",
       "      <td>2009</td>\n",
       "      <td>Irregular Lot</td>\n",
       "      <td>V8W</td>\n",
       "      <td>Condo</td>\n",
       "      <td>2013</td>\n",
       "      <td>7</td>\n",
       "      <td>707 Courtney</td>\n",
       "      <td>707</td>\n",
       "      <td>Courtney</td>\n",
       "      <td>93</td>\n",
       "    </tr>\n",
       "    <tr>\n",
       "      <th>15015</th>\n",
       "      <td>638821</td>\n",
       "      <td>640 Montreal St # 102, Victoria BC V8V 1Z8</td>\n",
       "      <td>Vi James Bay</td>\n",
       "      <td>2013-07-31</td>\n",
       "      <td>452500.0</td>\n",
       "      <td>2</td>\n",
       "      <td>2</td>\n",
       "      <td>1106.00</td>\n",
       "      <td>1106.0</td>\n",
       "      <td>1981</td>\n",
       "      <td>Dock/Moorage, Irregular Lot</td>\n",
       "      <td>V8V</td>\n",
       "      <td>Condo</td>\n",
       "      <td>2013</td>\n",
       "      <td>7</td>\n",
       "      <td>640 Montreal</td>\n",
       "      <td>640</td>\n",
       "      <td>Montreal</td>\n",
       "      <td>13</td>\n",
       "    </tr>\n",
       "  </tbody>\n",
       "</table>\n",
       "<p>10509 rows × 19 columns</p>\n",
       "</div>"
      ],
      "text/plain": [
       "         MLS#                                       Address          Area  \\\n",
       "0      927966    1034 Johnson St # 803, Victoria BC V8V 3N7   Vi Downtown   \n",
       "1      934902   755 Hillside Ave # 406, Victoria BC V8T 5B3   Vi Hillside   \n",
       "2      927416       3160 Irma St # 106, Victoria BC V9A 1S8   Vi Burnside   \n",
       "3      931182       1975 Lee Ave # 209, Victoria BC V8R 4W9    Vi Jubilee   \n",
       "4      926214  1170 Rockland Ave # 304, Victoria BC V8V 3H7   Vi Downtown   \n",
       "...       ...                                           ...           ...   \n",
       "15009  645937   647 Michigan St # 1507, Victoria BC V8V 1S9  Vi James Bay   \n",
       "15011  643703  1052 Rockland Ave # 304, Victoria BC V8V 3H5   Vi Downtown   \n",
       "15013  636474         21 Erie St # 414, Victoria BC V8V 5A8  Vi James Bay   \n",
       "15014  645377    707 Courtney St # 901, Victoria BC V8W 0A9   Vi Downtown   \n",
       "15015  638821    640 Montreal St # 102, Victoria BC V8V 1Z8  Vi James Bay   \n",
       "\n",
       "       Sold_date     Price  Beds  Baths     Sqft     Lot  Built  \\\n",
       "0     2023-07-10  585000.0     2      2  1134.00  1107.0   1983   \n",
       "1     2023-07-10  415000.0     2      1  1088.00  1088.0   1982   \n",
       "2     2023-07-10  375000.0     1      1   892.00   774.0   1972   \n",
       "3     2023-07-10  365000.0     1      1   642.71   617.0   1958   \n",
       "4     2023-07-07  565000.0     2      2  1064.00   981.0   1977   \n",
       "...          ...       ...   ...    ...      ...     ...    ...   \n",
       "15009 2013-08-06  152000.0     0      1   450.00   450.0   1969   \n",
       "15011 2013-07-31  239000.0     2      2  1213.00  1077.0   1977   \n",
       "15013 2013-07-31  389000.0     1      1   902.00   902.0   2004   \n",
       "15014 2013-07-31  336500.0     1      1   803.00   803.0   2009   \n",
       "15015 2013-07-31  452500.0     2      2  1106.00  1106.0   1981   \n",
       "\n",
       "                                                    Desc   PC House_type  \\\n",
       "0                  Corner Lot, Rectangular Lot, Serviced  V8V      Condo   \n",
       "1                                          Irregular Lot  V8T      Condo   \n",
       "2                               Level, Private, Serviced  V9A      Condo   \n",
       "3                                        Rectangular Lot  V8R      Condo   \n",
       "4      Central Location, Easy Access, Recreation Near...  V8V      Condo   \n",
       "...                                                  ...  ...        ...   \n",
       "15009                          Rectangular Lot, Serviced  V8V      Condo   \n",
       "15011                                      Irregular Lot  V8V      Condo   \n",
       "15013                                    Rectangular Lot  V8V      Condo   \n",
       "15014                                      Irregular Lot  V8W      Condo   \n",
       "15015                        Dock/Moorage, Irregular Lot  V8V      Condo   \n",
       "\n",
       "       Year  Month Street_address Street_num Street_name  Count  \n",
       "0      2023      7   1034 Johnson       1034     Johnson     28  \n",
       "1      2023      7   755 Hillside        755    Hillside     20  \n",
       "2      2023      7      3160 Irma       3160        Irma      7  \n",
       "3      2023      7       1975 Lee       1975         Lee     31  \n",
       "4      2023      7  1170 Rockland       1170    Rockland     19  \n",
       "...     ...    ...            ...        ...         ...    ...  \n",
       "15009  2013      8   647 Michigan        647    Michigan    123  \n",
       "15011  2013      7  1052 Rockland       1052    Rockland      9  \n",
       "15013  2013      7        21 Erie         21        Erie     57  \n",
       "15014  2013      7   707 Courtney        707    Courtney     93  \n",
       "15015  2013      7   640 Montreal        640    Montreal     13  \n",
       "\n",
       "[10509 rows x 19 columns]"
      ]
     },
     "execution_count": 176,
     "metadata": {},
     "output_type": "execute_result"
    }
   ],
   "source": [
    "vic_prop_df[vic_prop_df.Count > 5]"
   ]
  },
  {
   "cell_type": "code",
   "execution_count": 141,
   "id": "9f6b0a79",
   "metadata": {},
   "outputs": [],
   "source": [
    "vic_prop_df.to_csv('Vic_prop_listings.csv')"
   ]
  },
  {
   "cell_type": "code",
   "execution_count": 45,
   "id": "476b709b",
   "metadata": {},
   "outputs": [],
   "source": [
    "vic_prop_df['PC'] = vic_prop_df.Address.str.split('BC', expand=True)[1]"
   ]
  },
  {
   "cell_type": "code",
   "execution_count": 46,
   "id": "6adec467",
   "metadata": {},
   "outputs": [],
   "source": [
    "vic_prop_df['PC'] = vic_prop_df['PC'].str.split(' ', expand=True)[1]"
   ]
  },
  {
   "cell_type": "code",
   "execution_count": 78,
   "id": "47e61842",
   "metadata": {
    "scrolled": false
   },
   "outputs": [
    {
     "name": "stdout",
     "output_type": "stream",
     "text": [
      "<class 'pandas.core.frame.DataFrame'>\n",
      "Index: 15009 entries, 0 to 15016\n",
      "Data columns (total 16 columns):\n",
      " #   Column          Non-Null Count  Dtype         \n",
      "---  ------          --------------  -----         \n",
      " 0   MLS#            15009 non-null  int64         \n",
      " 1   Address         14975 non-null  object        \n",
      " 2   Area            15009 non-null  object        \n",
      " 3   Sold_date       15009 non-null  datetime64[ns]\n",
      " 4   Price           15009 non-null  float64       \n",
      " 5   Beds            15009 non-null  int64         \n",
      " 6   Baths           15009 non-null  int64         \n",
      " 7   Sqft            15009 non-null  float64       \n",
      " 8   Lot             15009 non-null  float64       \n",
      " 9   Built           15009 non-null  int64         \n",
      " 10  Desc            13889 non-null  object        \n",
      " 11  PC              14963 non-null  object        \n",
      " 12  House_type      15009 non-null  object        \n",
      " 13  Year            15009 non-null  int32         \n",
      " 14  Month           15009 non-null  int32         \n",
      " 15  Street_address  14975 non-null  object        \n",
      "dtypes: datetime64[ns](1), float64(3), int32(2), int64(4), object(6)\n",
      "memory usage: 1.8+ MB\n"
     ]
    }
   ],
   "source": [
    "vic_prop_df.info()"
   ]
  },
  {
   "cell_type": "code",
   "execution_count": 62,
   "id": "7402c985",
   "metadata": {},
   "outputs": [],
   "source": [
    "vic_prop_df['Street_address'] = vic_prop_df.Address.str.split(',', expand=True)[0].str.split('#', expand=True)[0]"
   ]
  },
  {
   "cell_type": "code",
   "execution_count": 91,
   "id": "73ef8899",
   "metadata": {},
   "outputs": [],
   "source": [
    "vic_prop_df.Street_address = vic_prop_df.Street_address.str.replace('johnson', 'Johnson')"
   ]
  },
  {
   "cell_type": "code",
   "execution_count": 104,
   "id": "3b58f881",
   "metadata": {
    "scrolled": true
   },
   "outputs": [],
   "source": [
    "vic_prop_df['Street_num'] = vic_prop_df.Street_address.str.split(' ', expand=True)[0]"
   ]
  },
  {
   "cell_type": "code",
   "execution_count": 108,
   "id": "ecde68af",
   "metadata": {},
   "outputs": [],
   "source": [
    "vic_prop_df['Street_name'] = vic_prop_df.Street_address.str.split(' ', expand=True)[1].str.capitalize()"
   ]
  },
  {
   "cell_type": "code",
   "execution_count": 134,
   "id": "c7d5cfd1",
   "metadata": {},
   "outputs": [],
   "source": [
    "vic_prop_df.loc[(vic_prop_df.Street_name == 'Mt.'), 'Street_name'] = 'Mt. Stephen'"
   ]
  },
  {
   "cell_type": "code",
   "execution_count": 139,
   "id": "9dabc917",
   "metadata": {},
   "outputs": [],
   "source": [
    "vic_prop_df.Street_address = vic_prop_df.Street_num + ' ' + vic_prop_df.Street_name\n"
   ]
  },
  {
   "cell_type": "code",
   "execution_count": 159,
   "id": "7bf5ddbd",
   "metadata": {},
   "outputs": [],
   "source": [
    "vic_prop_df = vic_prop_df.drop('Count', axis=1)"
   ]
  },
  {
   "cell_type": "code",
   "execution_count": 168,
   "id": "979ac87f",
   "metadata": {},
   "outputs": [],
   "source": [
    "gbo = vic_prop_df.groupby('Street_address').Area"
   ]
  },
  {
   "cell_type": "code",
   "execution_count": 170,
   "id": "2f6b8b14",
   "metadata": {},
   "outputs": [],
   "source": [
    "vic_prop_df['Count'] = gbo.transform('count')"
   ]
  },
  {
   "cell_type": "code",
   "execution_count": 49,
   "id": "65b45535",
   "metadata": {},
   "outputs": [],
   "source": [
    "vic_prop_df['House_type'] = 'House'"
   ]
  },
  {
   "cell_type": "code",
   "execution_count": 50,
   "id": "f6926d51",
   "metadata": {
    "scrolled": true
   },
   "outputs": [],
   "source": [
    "condo = vic_prop_df[(vic_prop_df.Sqft >= vic_prop_df.Lot)&(vic_prop_df.Address.str.contains('#\\s\\d+'))]"
   ]
  },
  {
   "cell_type": "code",
   "execution_count": 51,
   "id": "adc02333",
   "metadata": {},
   "outputs": [],
   "source": [
    "vic_prop_df.loc[condo.index, 'House_type'] = 'Condo'"
   ]
  },
  {
   "cell_type": "code",
   "execution_count": 52,
   "id": "fa147184",
   "metadata": {
    "scrolled": true
   },
   "outputs": [],
   "source": [
    "vic_prop_df['Year'] = vic_prop_df['Sold_date'].dt.year"
   ]
  },
  {
   "cell_type": "code",
   "execution_count": 53,
   "id": "3e8c20f9",
   "metadata": {},
   "outputs": [],
   "source": [
    "vic_prop_df['Month'] = vic_prop_df['Sold_date'].dt.month"
   ]
  },
  {
   "cell_type": "code",
   "execution_count": 72,
   "id": "e60dafd4",
   "metadata": {},
   "outputs": [],
   "source": [
    "empty = vic_prop_df.loc[vic_prop_df.Sqft == 0]\n",
    "vic_prop_df = vic_prop_df.drop(empty.index)"
   ]
  },
  {
   "cell_type": "markdown",
   "id": "300921d7",
   "metadata": {},
   "source": [
    "### Data Analysis"
   ]
  },
  {
   "cell_type": "code",
   "execution_count": 160,
   "id": "6532bd07",
   "metadata": {},
   "outputs": [],
   "source": [
    "from sklearn.model_selection import TimeSeriesSplit, cross_validate\n",
    "from sklearn.compose import ColumnTransformer\n",
    "from sklearn.ensemble import HistGradientBoostingRegressor\n",
    "from sklearn.pipeline import make_pipeline\n",
    "from sklearn.preprocessing import OrdinalEncoder\n",
    "from sklearn.pipeline import Pipeline\n",
    "from sklearn.model_selection import train_test_split\n",
    "from sklearn.metrics import mean_squared_error\n",
    "import numpy as np"
   ]
  },
  {
   "cell_type": "code",
   "execution_count": 164,
   "id": "728657d3",
   "metadata": {},
   "outputs": [],
   "source": [
    "ts_cv = TimeSeriesSplit(max_train_size=10000, test_size=1000)"
   ]
  },
  {
   "cell_type": "code",
   "execution_count": 504,
   "id": "67d5ce77",
   "metadata": {},
   "outputs": [],
   "source": [
    "X = vic_prop_df.drop(['MLS#', 'Address', 'Desc', 'Price', 'Sold_date'], axis=1)\n",
    "y = vic_prop_df.Price"
   ]
  },
  {
   "cell_type": "code",
   "execution_count": 505,
   "id": "013f73c5",
   "metadata": {},
   "outputs": [],
   "source": [
    "all_splits = list(ts_cv.split(X,y))"
   ]
  },
  {
   "cell_type": "code",
   "execution_count": 506,
   "id": "fa97488b",
   "metadata": {},
   "outputs": [],
   "source": [
    "train_0, test_0 = all_splits[0]"
   ]
  },
  {
   "cell_type": "code",
   "execution_count": 507,
   "id": "20de4285",
   "metadata": {},
   "outputs": [
    {
     "data": {
      "text/html": [
       "<div>\n",
       "<style scoped>\n",
       "    .dataframe tbody tr th:only-of-type {\n",
       "        vertical-align: middle;\n",
       "    }\n",
       "\n",
       "    .dataframe tbody tr th {\n",
       "        vertical-align: top;\n",
       "    }\n",
       "\n",
       "    .dataframe thead th {\n",
       "        text-align: right;\n",
       "    }\n",
       "</style>\n",
       "<table border=\"1\" class=\"dataframe\">\n",
       "  <thead>\n",
       "    <tr style=\"text-align: right;\">\n",
       "      <th></th>\n",
       "      <th>Area</th>\n",
       "      <th>Beds</th>\n",
       "      <th>Baths</th>\n",
       "      <th>Sqft</th>\n",
       "      <th>Lot</th>\n",
       "      <th>Built</th>\n",
       "      <th>PC</th>\n",
       "      <th>Year</th>\n",
       "      <th>Month</th>\n",
       "      <th>House_type</th>\n",
       "    </tr>\n",
       "  </thead>\n",
       "  <tbody>\n",
       "    <tr>\n",
       "      <th>0</th>\n",
       "      <td>Vi Downtown</td>\n",
       "      <td>2</td>\n",
       "      <td>2</td>\n",
       "      <td>1134.00</td>\n",
       "      <td>1107.0</td>\n",
       "      <td>1983</td>\n",
       "      <td>V8V</td>\n",
       "      <td>2023</td>\n",
       "      <td>7</td>\n",
       "      <td>Condo</td>\n",
       "    </tr>\n",
       "    <tr>\n",
       "      <th>1</th>\n",
       "      <td>Vi Hillside</td>\n",
       "      <td>2</td>\n",
       "      <td>1</td>\n",
       "      <td>1088.00</td>\n",
       "      <td>1088.0</td>\n",
       "      <td>1982</td>\n",
       "      <td>V8T</td>\n",
       "      <td>2023</td>\n",
       "      <td>7</td>\n",
       "      <td>Condo</td>\n",
       "    </tr>\n",
       "    <tr>\n",
       "      <th>2</th>\n",
       "      <td>Vi Burnside</td>\n",
       "      <td>1</td>\n",
       "      <td>1</td>\n",
       "      <td>892.00</td>\n",
       "      <td>774.0</td>\n",
       "      <td>1972</td>\n",
       "      <td>V9A</td>\n",
       "      <td>2023</td>\n",
       "      <td>7</td>\n",
       "      <td>Condo</td>\n",
       "    </tr>\n",
       "    <tr>\n",
       "      <th>3</th>\n",
       "      <td>Vi Jubilee</td>\n",
       "      <td>1</td>\n",
       "      <td>1</td>\n",
       "      <td>642.71</td>\n",
       "      <td>617.0</td>\n",
       "      <td>1958</td>\n",
       "      <td>V8R</td>\n",
       "      <td>2023</td>\n",
       "      <td>7</td>\n",
       "      <td>Condo</td>\n",
       "    </tr>\n",
       "    <tr>\n",
       "      <th>4</th>\n",
       "      <td>Vi Downtown</td>\n",
       "      <td>2</td>\n",
       "      <td>2</td>\n",
       "      <td>1064.00</td>\n",
       "      <td>981.0</td>\n",
       "      <td>1977</td>\n",
       "      <td>V8V</td>\n",
       "      <td>2023</td>\n",
       "      <td>7</td>\n",
       "      <td>Condo</td>\n",
       "    </tr>\n",
       "    <tr>\n",
       "      <th>...</th>\n",
       "      <td>...</td>\n",
       "      <td>...</td>\n",
       "      <td>...</td>\n",
       "      <td>...</td>\n",
       "      <td>...</td>\n",
       "      <td>...</td>\n",
       "      <td>...</td>\n",
       "      <td>...</td>\n",
       "      <td>...</td>\n",
       "      <td>...</td>\n",
       "    </tr>\n",
       "    <tr>\n",
       "      <th>10011</th>\n",
       "      <td>Vi James Bay</td>\n",
       "      <td>2</td>\n",
       "      <td>2</td>\n",
       "      <td>1684.00</td>\n",
       "      <td>1684.0</td>\n",
       "      <td>1991</td>\n",
       "      <td>V8V</td>\n",
       "      <td>2017</td>\n",
       "      <td>2</td>\n",
       "      <td>Condo</td>\n",
       "    </tr>\n",
       "    <tr>\n",
       "      <th>10012</th>\n",
       "      <td>Vi Downtown</td>\n",
       "      <td>1</td>\n",
       "      <td>1</td>\n",
       "      <td>624.00</td>\n",
       "      <td>624.0</td>\n",
       "      <td>2006</td>\n",
       "      <td>V8W</td>\n",
       "      <td>2017</td>\n",
       "      <td>2</td>\n",
       "      <td>Condo</td>\n",
       "    </tr>\n",
       "    <tr>\n",
       "      <th>10013</th>\n",
       "      <td>Vi Hillside</td>\n",
       "      <td>1</td>\n",
       "      <td>1</td>\n",
       "      <td>783.00</td>\n",
       "      <td>700.0</td>\n",
       "      <td>1990</td>\n",
       "      <td>V8T</td>\n",
       "      <td>2017</td>\n",
       "      <td>2</td>\n",
       "      <td>Condo</td>\n",
       "    </tr>\n",
       "    <tr>\n",
       "      <th>10014</th>\n",
       "      <td>Vi Central Park</td>\n",
       "      <td>1</td>\n",
       "      <td>1</td>\n",
       "      <td>731.00</td>\n",
       "      <td>731.0</td>\n",
       "      <td>2008</td>\n",
       "      <td>V8W</td>\n",
       "      <td>2017</td>\n",
       "      <td>2</td>\n",
       "      <td>Condo</td>\n",
       "    </tr>\n",
       "    <tr>\n",
       "      <th>10015</th>\n",
       "      <td>Vi Downtown</td>\n",
       "      <td>2</td>\n",
       "      <td>1</td>\n",
       "      <td>800.00</td>\n",
       "      <td>800.0</td>\n",
       "      <td>2005</td>\n",
       "      <td>V8W</td>\n",
       "      <td>2017</td>\n",
       "      <td>2</td>\n",
       "      <td>Condo</td>\n",
       "    </tr>\n",
       "  </tbody>\n",
       "</table>\n",
       "<p>9970 rows × 10 columns</p>\n",
       "</div>"
      ],
      "text/plain": [
       "                  Area  Beds  Baths     Sqft     Lot  Built   PC  Year  Month  \\\n",
       "0          Vi Downtown     2      2  1134.00  1107.0   1983  V8V  2023      7   \n",
       "1          Vi Hillside     2      1  1088.00  1088.0   1982  V8T  2023      7   \n",
       "2          Vi Burnside     1      1   892.00   774.0   1972  V9A  2023      7   \n",
       "3           Vi Jubilee     1      1   642.71   617.0   1958  V8R  2023      7   \n",
       "4          Vi Downtown     2      2  1064.00   981.0   1977  V8V  2023      7   \n",
       "...                ...   ...    ...      ...     ...    ...  ...   ...    ...   \n",
       "10011     Vi James Bay     2      2  1684.00  1684.0   1991  V8V  2017      2   \n",
       "10012      Vi Downtown     1      1   624.00   624.0   2006  V8W  2017      2   \n",
       "10013      Vi Hillside     1      1   783.00   700.0   1990  V8T  2017      2   \n",
       "10014  Vi Central Park     1      1   731.00   731.0   2008  V8W  2017      2   \n",
       "10015      Vi Downtown     2      1   800.00   800.0   2005  V8W  2017      2   \n",
       "\n",
       "      House_type  \n",
       "0          Condo  \n",
       "1          Condo  \n",
       "2          Condo  \n",
       "3          Condo  \n",
       "4          Condo  \n",
       "...          ...  \n",
       "10011      Condo  \n",
       "10012      Condo  \n",
       "10013      Condo  \n",
       "10014      Condo  \n",
       "10015      Condo  \n",
       "\n",
       "[9970 rows x 10 columns]"
      ]
     },
     "execution_count": 507,
     "metadata": {},
     "output_type": "execute_result"
    }
   ],
   "source": [
    "X.iloc[train_0]"
   ]
  },
  {
   "cell_type": "code",
   "execution_count": 182,
   "id": "ec018384",
   "metadata": {},
   "outputs": [],
   "source": [
    "area_cat = list(vic_prop_df.Area.value_counts().index)"
   ]
  },
  {
   "cell_type": "code",
   "execution_count": 184,
   "id": "90a195f2",
   "metadata": {},
   "outputs": [],
   "source": [
    "pc_cat = list(vic_prop_df.PC.value_counts().index)"
   ]
  },
  {
   "cell_type": "code",
   "execution_count": 500,
   "id": "09f7323b",
   "metadata": {},
   "outputs": [],
   "source": [
    "h_cat = list(vic_prop_df.House_type.value_counts().index)"
   ]
  },
  {
   "cell_type": "code",
   "execution_count": 501,
   "id": "d596364e",
   "metadata": {},
   "outputs": [],
   "source": [
    "categorical_columns = ['Area', 'PC', 'House_type']\n",
    "categories = [area_cat, pc_cat, h_cat]"
   ]
  },
  {
   "cell_type": "code",
   "execution_count": 508,
   "id": "4fa7254d",
   "metadata": {},
   "outputs": [],
   "source": [
    "ordinal_encoder = OrdinalEncoder(categories=categories)"
   ]
  },
  {
   "cell_type": "code",
   "execution_count": 509,
   "id": "714853c1",
   "metadata": {},
   "outputs": [],
   "source": [
    "gbrt_pipeline = make_pipeline(\n",
    "    ColumnTransformer(\n",
    "        transformers=[\n",
    "            (\"categorical\", ordinal_encoder, categorical_columns),\n",
    "        ],\n",
    "        remainder=\"passthrough\",\n",
    "        verbose_feature_names_out=False,\n",
    "    ),\n",
    "    HistGradientBoostingRegressor(\n",
    "        categorical_features=categorical_columns,\n",
    "        learning_rate=0.2,\n",
    "        random_state=42,\n",
    "    ),\n",
    ").set_output(transform=\"pandas\")"
   ]
  },
  {
   "cell_type": "code",
   "execution_count": 510,
   "id": "b72018cb",
   "metadata": {},
   "outputs": [],
   "source": [
    "def evaluate(model, X, y, cv):\n",
    "    cv_results = cross_validate(\n",
    "        model,\n",
    "        X,\n",
    "        y,\n",
    "        cv=cv,\n",
    "        scoring=['neg_mean_absolute_error', 'neg_root_mean_squared_error']\n",
    "    )\n",
    "    \n",
    "    mae = -cv_results['test_neg_mean_absolute_error']\n",
    "    rmse = -cv_results['test_neg_root_mean_squared_error']\n",
    "    \n",
    "    print(\n",
    "        f\"MAE: {mae.mean():.3f} +/- {mae.std():.3f}\\n\"\n",
    "        f\"RMSE: {rmse.mean():.3f} +/- {rmse.std():.3f}\")\n",
    "    \n",
    "    return cv_results"
   ]
  },
  {
   "cell_type": "code",
   "execution_count": 511,
   "id": "e9550248",
   "metadata": {
    "scrolled": false
   },
   "outputs": [
    {
     "name": "stdout",
     "output_type": "stream",
     "text": [
      "MAE: 73072.147 +/- 8439.115\n",
      "RMSE: 127918.777 +/- 11075.808\n"
     ]
    }
   ],
   "source": [
    " results = evaluate(gbrt_pipeline, X, y, cv=ts_cv)"
   ]
  },
  {
   "cell_type": "code",
   "execution_count": 512,
   "id": "77567fd3",
   "metadata": {},
   "outputs": [],
   "source": [
    "X_train, X_test, y_train, y_test = train_test_split(X, y, test_size=0.33, random_state=42)"
   ]
  },
  {
   "cell_type": "code",
   "execution_count": 513,
   "id": "cfa3e7b2",
   "metadata": {
    "scrolled": true
   },
   "outputs": [
    {
     "data": {
      "text/html": [
       "<style>#sk-container-id-8 {color: black;background-color: white;}#sk-container-id-8 pre{padding: 0;}#sk-container-id-8 div.sk-toggleable {background-color: white;}#sk-container-id-8 label.sk-toggleable__label {cursor: pointer;display: block;width: 100%;margin-bottom: 0;padding: 0.3em;box-sizing: border-box;text-align: center;}#sk-container-id-8 label.sk-toggleable__label-arrow:before {content: \"▸\";float: left;margin-right: 0.25em;color: #696969;}#sk-container-id-8 label.sk-toggleable__label-arrow:hover:before {color: black;}#sk-container-id-8 div.sk-estimator:hover label.sk-toggleable__label-arrow:before {color: black;}#sk-container-id-8 div.sk-toggleable__content {max-height: 0;max-width: 0;overflow: hidden;text-align: left;background-color: #f0f8ff;}#sk-container-id-8 div.sk-toggleable__content pre {margin: 0.2em;color: black;border-radius: 0.25em;background-color: #f0f8ff;}#sk-container-id-8 input.sk-toggleable__control:checked~div.sk-toggleable__content {max-height: 200px;max-width: 100%;overflow: auto;}#sk-container-id-8 input.sk-toggleable__control:checked~label.sk-toggleable__label-arrow:before {content: \"▾\";}#sk-container-id-8 div.sk-estimator input.sk-toggleable__control:checked~label.sk-toggleable__label {background-color: #d4ebff;}#sk-container-id-8 div.sk-label input.sk-toggleable__control:checked~label.sk-toggleable__label {background-color: #d4ebff;}#sk-container-id-8 input.sk-hidden--visually {border: 0;clip: rect(1px 1px 1px 1px);clip: rect(1px, 1px, 1px, 1px);height: 1px;margin: -1px;overflow: hidden;padding: 0;position: absolute;width: 1px;}#sk-container-id-8 div.sk-estimator {font-family: monospace;background-color: #f0f8ff;border: 1px dotted black;border-radius: 0.25em;box-sizing: border-box;margin-bottom: 0.5em;}#sk-container-id-8 div.sk-estimator:hover {background-color: #d4ebff;}#sk-container-id-8 div.sk-parallel-item::after {content: \"\";width: 100%;border-bottom: 1px solid gray;flex-grow: 1;}#sk-container-id-8 div.sk-label:hover label.sk-toggleable__label {background-color: #d4ebff;}#sk-container-id-8 div.sk-serial::before {content: \"\";position: absolute;border-left: 1px solid gray;box-sizing: border-box;top: 0;bottom: 0;left: 50%;z-index: 0;}#sk-container-id-8 div.sk-serial {display: flex;flex-direction: column;align-items: center;background-color: white;padding-right: 0.2em;padding-left: 0.2em;position: relative;}#sk-container-id-8 div.sk-item {position: relative;z-index: 1;}#sk-container-id-8 div.sk-parallel {display: flex;align-items: stretch;justify-content: center;background-color: white;position: relative;}#sk-container-id-8 div.sk-item::before, #sk-container-id-8 div.sk-parallel-item::before {content: \"\";position: absolute;border-left: 1px solid gray;box-sizing: border-box;top: 0;bottom: 0;left: 50%;z-index: -1;}#sk-container-id-8 div.sk-parallel-item {display: flex;flex-direction: column;z-index: 1;position: relative;background-color: white;}#sk-container-id-8 div.sk-parallel-item:first-child::after {align-self: flex-end;width: 50%;}#sk-container-id-8 div.sk-parallel-item:last-child::after {align-self: flex-start;width: 50%;}#sk-container-id-8 div.sk-parallel-item:only-child::after {width: 0;}#sk-container-id-8 div.sk-dashed-wrapped {border: 1px dashed gray;margin: 0 0.4em 0.5em 0.4em;box-sizing: border-box;padding-bottom: 0.4em;background-color: white;}#sk-container-id-8 div.sk-label label {font-family: monospace;font-weight: bold;display: inline-block;line-height: 1.2em;}#sk-container-id-8 div.sk-label-container {text-align: center;}#sk-container-id-8 div.sk-container {/* jupyter's `normalize.less` sets `[hidden] { display: none; }` but bootstrap.min.css set `[hidden] { display: none !important; }` so we also need the `!important` here to be able to override the default hidden behavior on the sphinx rendered scikit-learn.org. See: https://github.com/scikit-learn/scikit-learn/issues/21755 */display: inline-block !important;position: relative;}#sk-container-id-8 div.sk-text-repr-fallback {display: none;}</style><div id=\"sk-container-id-8\" class=\"sk-top-container\"><div class=\"sk-text-repr-fallback\"><pre>Pipeline(steps=[(&#x27;columntransformer&#x27;,\n",
       "                 ColumnTransformer(remainder=&#x27;passthrough&#x27;,\n",
       "                                   transformers=[(&#x27;categorical&#x27;,\n",
       "                                                  OrdinalEncoder(categories=[[&#x27;Vi &#x27;\n",
       "                                                                              &#x27;Downtown&#x27;,\n",
       "                                                                              &#x27;Vi &#x27;\n",
       "                                                                              &#x27;James &#x27;\n",
       "                                                                              &#x27;Bay&#x27;,\n",
       "                                                                              &#x27;Vi &#x27;\n",
       "                                                                              &#x27;Fairfield &#x27;\n",
       "                                                                              &#x27;West&#x27;,\n",
       "                                                                              &#x27;VW &#x27;\n",
       "                                                                              &#x27;Victoria &#x27;\n",
       "                                                                              &#x27;West&#x27;,\n",
       "                                                                              &#x27;Vi &#x27;\n",
       "                                                                              &#x27;Oaklands&#x27;,\n",
       "                                                                              &#x27;Vi &#x27;\n",
       "                                                                              &#x27;Jubilee&#x27;,\n",
       "                                                                              &#x27;Vi &#x27;\n",
       "                                                                              &#x27;Hillside&#x27;,\n",
       "                                                                              &#x27;Vi &#x27;\n",
       "                                                                              &#x27;Burnside&#x27;,\n",
       "                                                                              &#x27;Vi &#x27;\n",
       "                                                                              &#x27;Fernwood&#x27;,\n",
       "                                                                              &#x27;Vi &#x27;\n",
       "                                                                              &#x27;Fairfield &#x27;\n",
       "                                                                              &#x27;East&#x27;,\n",
       "                                                                              &#x27;Vi &#x27;\n",
       "                                                                              &#x27;Rockland&#x27;,\n",
       "                                                                              &#x27;Vi &#x27;\n",
       "                                                                              &#x27;Central &#x27;\n",
       "                                                                              &#x27;Park&#x27;,\n",
       "                                                                              &#x27;Vi &#x27;\n",
       "                                                                              &#x27;May...\n",
       "                                                                              &#x27;V9B&#x27;,\n",
       "                                                                              &#x27;V8Y&#x27;,\n",
       "                                                                              &#x27;V9C&#x27;,\n",
       "                                                                              &#x27;V8L&#x27;,\n",
       "                                                                              &#x27;V9Z&#x27;,\n",
       "                                                                              &#x27;V9V&#x27;,\n",
       "                                                                              &#x27;V8A&#x27;,\n",
       "                                                                              &#x27;V9R&#x27;,\n",
       "                                                                              &#x27;V8M&#x27;,\n",
       "                                                                              &#x27;V8B&#x27;,\n",
       "                                                                              &#x27;V9E&#x27;,\n",
       "                                                                              &#x27;V0R&#x27;,\n",
       "                                                                              &#x27;V9W&#x27;,\n",
       "                                                                              &#x27;V9L&#x27;,\n",
       "                                                                              &#x27;V6V&#x27;,\n",
       "                                                                              &#x27;V9S&#x27;,\n",
       "                                                                              &#x27;V9K&#x27;,\n",
       "                                                                              &#x27;V6Z&#x27;,\n",
       "                                                                              &#x27;V9Y&#x27;,\n",
       "                                                                              &#x27;V8D&#x27;, ...],\n",
       "                                                                             [&#x27;Condo&#x27;,\n",
       "                                                                              &#x27;Home&#x27;]]),\n",
       "                                                  [&#x27;Area&#x27;, &#x27;PC&#x27;,\n",
       "                                                   &#x27;House_type&#x27;])],\n",
       "                                   verbose_feature_names_out=False)),\n",
       "                (&#x27;histgradientboostingregressor&#x27;,\n",
       "                 HistGradientBoostingRegressor(categorical_features=[&#x27;Area&#x27;,\n",
       "                                                                     &#x27;PC&#x27;,\n",
       "                                                                     &#x27;House_type&#x27;],\n",
       "                                               learning_rate=0.2,\n",
       "                                               random_state=42))])</pre><b>In a Jupyter environment, please rerun this cell to show the HTML representation or trust the notebook. <br />On GitHub, the HTML representation is unable to render, please try loading this page with nbviewer.org.</b></div><div class=\"sk-container\" hidden><div class=\"sk-item sk-dashed-wrapped\"><div class=\"sk-label-container\"><div class=\"sk-label sk-toggleable\"><input class=\"sk-toggleable__control sk-hidden--visually\" id=\"sk-estimator-id-50\" type=\"checkbox\" ><label for=\"sk-estimator-id-50\" class=\"sk-toggleable__label sk-toggleable__label-arrow\">Pipeline</label><div class=\"sk-toggleable__content\"><pre>Pipeline(steps=[(&#x27;columntransformer&#x27;,\n",
       "                 ColumnTransformer(remainder=&#x27;passthrough&#x27;,\n",
       "                                   transformers=[(&#x27;categorical&#x27;,\n",
       "                                                  OrdinalEncoder(categories=[[&#x27;Vi &#x27;\n",
       "                                                                              &#x27;Downtown&#x27;,\n",
       "                                                                              &#x27;Vi &#x27;\n",
       "                                                                              &#x27;James &#x27;\n",
       "                                                                              &#x27;Bay&#x27;,\n",
       "                                                                              &#x27;Vi &#x27;\n",
       "                                                                              &#x27;Fairfield &#x27;\n",
       "                                                                              &#x27;West&#x27;,\n",
       "                                                                              &#x27;VW &#x27;\n",
       "                                                                              &#x27;Victoria &#x27;\n",
       "                                                                              &#x27;West&#x27;,\n",
       "                                                                              &#x27;Vi &#x27;\n",
       "                                                                              &#x27;Oaklands&#x27;,\n",
       "                                                                              &#x27;Vi &#x27;\n",
       "                                                                              &#x27;Jubilee&#x27;,\n",
       "                                                                              &#x27;Vi &#x27;\n",
       "                                                                              &#x27;Hillside&#x27;,\n",
       "                                                                              &#x27;Vi &#x27;\n",
       "                                                                              &#x27;Burnside&#x27;,\n",
       "                                                                              &#x27;Vi &#x27;\n",
       "                                                                              &#x27;Fernwood&#x27;,\n",
       "                                                                              &#x27;Vi &#x27;\n",
       "                                                                              &#x27;Fairfield &#x27;\n",
       "                                                                              &#x27;East&#x27;,\n",
       "                                                                              &#x27;Vi &#x27;\n",
       "                                                                              &#x27;Rockland&#x27;,\n",
       "                                                                              &#x27;Vi &#x27;\n",
       "                                                                              &#x27;Central &#x27;\n",
       "                                                                              &#x27;Park&#x27;,\n",
       "                                                                              &#x27;Vi &#x27;\n",
       "                                                                              &#x27;May...\n",
       "                                                                              &#x27;V9B&#x27;,\n",
       "                                                                              &#x27;V8Y&#x27;,\n",
       "                                                                              &#x27;V9C&#x27;,\n",
       "                                                                              &#x27;V8L&#x27;,\n",
       "                                                                              &#x27;V9Z&#x27;,\n",
       "                                                                              &#x27;V9V&#x27;,\n",
       "                                                                              &#x27;V8A&#x27;,\n",
       "                                                                              &#x27;V9R&#x27;,\n",
       "                                                                              &#x27;V8M&#x27;,\n",
       "                                                                              &#x27;V8B&#x27;,\n",
       "                                                                              &#x27;V9E&#x27;,\n",
       "                                                                              &#x27;V0R&#x27;,\n",
       "                                                                              &#x27;V9W&#x27;,\n",
       "                                                                              &#x27;V9L&#x27;,\n",
       "                                                                              &#x27;V6V&#x27;,\n",
       "                                                                              &#x27;V9S&#x27;,\n",
       "                                                                              &#x27;V9K&#x27;,\n",
       "                                                                              &#x27;V6Z&#x27;,\n",
       "                                                                              &#x27;V9Y&#x27;,\n",
       "                                                                              &#x27;V8D&#x27;, ...],\n",
       "                                                                             [&#x27;Condo&#x27;,\n",
       "                                                                              &#x27;Home&#x27;]]),\n",
       "                                                  [&#x27;Area&#x27;, &#x27;PC&#x27;,\n",
       "                                                   &#x27;House_type&#x27;])],\n",
       "                                   verbose_feature_names_out=False)),\n",
       "                (&#x27;histgradientboostingregressor&#x27;,\n",
       "                 HistGradientBoostingRegressor(categorical_features=[&#x27;Area&#x27;,\n",
       "                                                                     &#x27;PC&#x27;,\n",
       "                                                                     &#x27;House_type&#x27;],\n",
       "                                               learning_rate=0.2,\n",
       "                                               random_state=42))])</pre></div></div></div><div class=\"sk-serial\"><div class=\"sk-item sk-dashed-wrapped\"><div class=\"sk-label-container\"><div class=\"sk-label sk-toggleable\"><input class=\"sk-toggleable__control sk-hidden--visually\" id=\"sk-estimator-id-51\" type=\"checkbox\" ><label for=\"sk-estimator-id-51\" class=\"sk-toggleable__label sk-toggleable__label-arrow\">columntransformer: ColumnTransformer</label><div class=\"sk-toggleable__content\"><pre>ColumnTransformer(remainder=&#x27;passthrough&#x27;,\n",
       "                  transformers=[(&#x27;categorical&#x27;,\n",
       "                                 OrdinalEncoder(categories=[[&#x27;Vi Downtown&#x27;,\n",
       "                                                             &#x27;Vi James Bay&#x27;,\n",
       "                                                             &#x27;Vi Fairfield &#x27;\n",
       "                                                             &#x27;West&#x27;,\n",
       "                                                             &#x27;VW Victoria West&#x27;,\n",
       "                                                             &#x27;Vi Oaklands&#x27;,\n",
       "                                                             &#x27;Vi Jubilee&#x27;,\n",
       "                                                             &#x27;Vi Hillside&#x27;,\n",
       "                                                             &#x27;Vi Burnside&#x27;,\n",
       "                                                             &#x27;Vi Fernwood&#x27;,\n",
       "                                                             &#x27;Vi Fairfield &#x27;\n",
       "                                                             &#x27;East&#x27;,\n",
       "                                                             &#x27;Vi Rockland&#x27;,\n",
       "                                                             &#x27;Vi Central Park&#x27;,\n",
       "                                                             &#x27;Vi Mayfair&#x27;],\n",
       "                                                            [&#x27;V8V&#x27;, &#x27;V8W&#x27;,\n",
       "                                                             &#x27;V8T&#x27;, &#x27;V8R&#x27;,\n",
       "                                                             &#x27;V9A&#x27;, &#x27;V8S&#x27;,\n",
       "                                                             &#x27;V8X&#x27;, &#x27;V8Z&#x27;,\n",
       "                                                             &#x27;V8P&#x27;, &#x27;V8N&#x27;,\n",
       "                                                             &#x27;V9B&#x27;, &#x27;V8Y&#x27;,\n",
       "                                                             &#x27;V9C&#x27;, &#x27;V8L&#x27;,\n",
       "                                                             &#x27;V9Z&#x27;, &#x27;V9V&#x27;,\n",
       "                                                             &#x27;V8A&#x27;, &#x27;V9R&#x27;,\n",
       "                                                             &#x27;V8M&#x27;, &#x27;V8B&#x27;,\n",
       "                                                             &#x27;V9E&#x27;, &#x27;V0R&#x27;,\n",
       "                                                             &#x27;V9W&#x27;, &#x27;V9L&#x27;,\n",
       "                                                             &#x27;V6V&#x27;, &#x27;V9S&#x27;,\n",
       "                                                             &#x27;V9K&#x27;, &#x27;V6Z&#x27;,\n",
       "                                                             &#x27;V9Y&#x27;, &#x27;V8D&#x27;, ...],\n",
       "                                                            [&#x27;Condo&#x27;, &#x27;Home&#x27;]]),\n",
       "                                 [&#x27;Area&#x27;, &#x27;PC&#x27;, &#x27;House_type&#x27;])],\n",
       "                  verbose_feature_names_out=False)</pre></div></div></div><div class=\"sk-parallel\"><div class=\"sk-parallel-item\"><div class=\"sk-item\"><div class=\"sk-label-container\"><div class=\"sk-label sk-toggleable\"><input class=\"sk-toggleable__control sk-hidden--visually\" id=\"sk-estimator-id-52\" type=\"checkbox\" ><label for=\"sk-estimator-id-52\" class=\"sk-toggleable__label sk-toggleable__label-arrow\">categorical</label><div class=\"sk-toggleable__content\"><pre>[&#x27;Area&#x27;, &#x27;PC&#x27;, &#x27;House_type&#x27;]</pre></div></div></div><div class=\"sk-serial\"><div class=\"sk-item\"><div class=\"sk-estimator sk-toggleable\"><input class=\"sk-toggleable__control sk-hidden--visually\" id=\"sk-estimator-id-53\" type=\"checkbox\" ><label for=\"sk-estimator-id-53\" class=\"sk-toggleable__label sk-toggleable__label-arrow\">OrdinalEncoder</label><div class=\"sk-toggleable__content\"><pre>OrdinalEncoder(categories=[[&#x27;Vi Downtown&#x27;, &#x27;Vi James Bay&#x27;, &#x27;Vi Fairfield West&#x27;,\n",
       "                            &#x27;VW Victoria West&#x27;, &#x27;Vi Oaklands&#x27;, &#x27;Vi Jubilee&#x27;,\n",
       "                            &#x27;Vi Hillside&#x27;, &#x27;Vi Burnside&#x27;, &#x27;Vi Fernwood&#x27;,\n",
       "                            &#x27;Vi Fairfield East&#x27;, &#x27;Vi Rockland&#x27;,\n",
       "                            &#x27;Vi Central Park&#x27;, &#x27;Vi Mayfair&#x27;],\n",
       "                           [&#x27;V8V&#x27;, &#x27;V8W&#x27;, &#x27;V8T&#x27;, &#x27;V8R&#x27;, &#x27;V9A&#x27;, &#x27;V8S&#x27;, &#x27;V8X&#x27;,\n",
       "                            &#x27;V8Z&#x27;, &#x27;V8P&#x27;, &#x27;V8N&#x27;, &#x27;V9B&#x27;, &#x27;V8Y&#x27;, &#x27;V9C&#x27;, &#x27;V8L&#x27;,\n",
       "                            &#x27;V9Z&#x27;, &#x27;V9V&#x27;, &#x27;V8A&#x27;, &#x27;V9R&#x27;, &#x27;V8M&#x27;, &#x27;V8B&#x27;, &#x27;V9E&#x27;,\n",
       "                            &#x27;V0R&#x27;, &#x27;V9W&#x27;, &#x27;V9L&#x27;, &#x27;V6V&#x27;, &#x27;V9S&#x27;, &#x27;V9K&#x27;, &#x27;V6Z&#x27;,\n",
       "                            &#x27;V9Y&#x27;, &#x27;V8D&#x27;, ...],\n",
       "                           [&#x27;Condo&#x27;, &#x27;Home&#x27;]])</pre></div></div></div></div></div></div><div class=\"sk-parallel-item\"><div class=\"sk-item\"><div class=\"sk-label-container\"><div class=\"sk-label sk-toggleable\"><input class=\"sk-toggleable__control sk-hidden--visually\" id=\"sk-estimator-id-54\" type=\"checkbox\" ><label for=\"sk-estimator-id-54\" class=\"sk-toggleable__label sk-toggleable__label-arrow\">remainder</label><div class=\"sk-toggleable__content\"><pre>[&#x27;Beds&#x27;, &#x27;Baths&#x27;, &#x27;Sqft&#x27;, &#x27;Lot&#x27;, &#x27;Built&#x27;, &#x27;Year&#x27;, &#x27;Month&#x27;]</pre></div></div></div><div class=\"sk-serial\"><div class=\"sk-item\"><div class=\"sk-estimator sk-toggleable\"><input class=\"sk-toggleable__control sk-hidden--visually\" id=\"sk-estimator-id-55\" type=\"checkbox\" ><label for=\"sk-estimator-id-55\" class=\"sk-toggleable__label sk-toggleable__label-arrow\">passthrough</label><div class=\"sk-toggleable__content\"><pre>passthrough</pre></div></div></div></div></div></div></div></div><div class=\"sk-item\"><div class=\"sk-estimator sk-toggleable\"><input class=\"sk-toggleable__control sk-hidden--visually\" id=\"sk-estimator-id-56\" type=\"checkbox\" ><label for=\"sk-estimator-id-56\" class=\"sk-toggleable__label sk-toggleable__label-arrow\">HistGradientBoostingRegressor</label><div class=\"sk-toggleable__content\"><pre>HistGradientBoostingRegressor(categorical_features=[&#x27;Area&#x27;, &#x27;PC&#x27;, &#x27;House_type&#x27;],\n",
       "                              learning_rate=0.2, random_state=42)</pre></div></div></div></div></div></div></div>"
      ],
      "text/plain": [
       "Pipeline(steps=[('columntransformer',\n",
       "                 ColumnTransformer(remainder='passthrough',\n",
       "                                   transformers=[('categorical',\n",
       "                                                  OrdinalEncoder(categories=[['Vi '\n",
       "                                                                              'Downtown',\n",
       "                                                                              'Vi '\n",
       "                                                                              'James '\n",
       "                                                                              'Bay',\n",
       "                                                                              'Vi '\n",
       "                                                                              'Fairfield '\n",
       "                                                                              'West',\n",
       "                                                                              'VW '\n",
       "                                                                              'Victoria '\n",
       "                                                                              'West',\n",
       "                                                                              'Vi '\n",
       "                                                                              'Oaklands',\n",
       "                                                                              'Vi '\n",
       "                                                                              'Jubilee',\n",
       "                                                                              'Vi '\n",
       "                                                                              'Hillside',\n",
       "                                                                              'Vi '\n",
       "                                                                              'Burnside',\n",
       "                                                                              'Vi '\n",
       "                                                                              'Fernwood',\n",
       "                                                                              'Vi '\n",
       "                                                                              'Fairfield '\n",
       "                                                                              'East',\n",
       "                                                                              'Vi '\n",
       "                                                                              'Rockland',\n",
       "                                                                              'Vi '\n",
       "                                                                              'Central '\n",
       "                                                                              'Park',\n",
       "                                                                              'Vi '\n",
       "                                                                              'May...\n",
       "                                                                              'V9B',\n",
       "                                                                              'V8Y',\n",
       "                                                                              'V9C',\n",
       "                                                                              'V8L',\n",
       "                                                                              'V9Z',\n",
       "                                                                              'V9V',\n",
       "                                                                              'V8A',\n",
       "                                                                              'V9R',\n",
       "                                                                              'V8M',\n",
       "                                                                              'V8B',\n",
       "                                                                              'V9E',\n",
       "                                                                              'V0R',\n",
       "                                                                              'V9W',\n",
       "                                                                              'V9L',\n",
       "                                                                              'V6V',\n",
       "                                                                              'V9S',\n",
       "                                                                              'V9K',\n",
       "                                                                              'V6Z',\n",
       "                                                                              'V9Y',\n",
       "                                                                              'V8D', ...],\n",
       "                                                                             ['Condo',\n",
       "                                                                              'Home']]),\n",
       "                                                  ['Area', 'PC',\n",
       "                                                   'House_type'])],\n",
       "                                   verbose_feature_names_out=False)),\n",
       "                ('histgradientboostingregressor',\n",
       "                 HistGradientBoostingRegressor(categorical_features=['Area',\n",
       "                                                                     'PC',\n",
       "                                                                     'House_type'],\n",
       "                                               learning_rate=0.2,\n",
       "                                               random_state=42))])"
      ]
     },
     "execution_count": 513,
     "metadata": {},
     "output_type": "execute_result"
    }
   ],
   "source": [
    "gbrt_pipeline.fit(X_train, y_train)"
   ]
  },
  {
   "cell_type": "code",
   "execution_count": 514,
   "id": "6b3d6717",
   "metadata": {},
   "outputs": [],
   "source": [
    "pred = gbrt_pipeline.predict(X_test)"
   ]
  },
  {
   "cell_type": "code",
   "execution_count": 515,
   "id": "8624f151",
   "metadata": {},
   "outputs": [
    {
     "data": {
      "text/html": [
       "<div>\n",
       "<style scoped>\n",
       "    .dataframe tbody tr th:only-of-type {\n",
       "        vertical-align: middle;\n",
       "    }\n",
       "\n",
       "    .dataframe tbody tr th {\n",
       "        vertical-align: top;\n",
       "    }\n",
       "\n",
       "    .dataframe thead th {\n",
       "        text-align: right;\n",
       "    }\n",
       "</style>\n",
       "<table border=\"1\" class=\"dataframe\">\n",
       "  <thead>\n",
       "    <tr style=\"text-align: right;\">\n",
       "      <th></th>\n",
       "      <th>Area</th>\n",
       "      <th>Beds</th>\n",
       "      <th>Baths</th>\n",
       "      <th>Sqft</th>\n",
       "      <th>Lot</th>\n",
       "      <th>Built</th>\n",
       "      <th>PC</th>\n",
       "      <th>Year</th>\n",
       "      <th>Month</th>\n",
       "      <th>House_type</th>\n",
       "    </tr>\n",
       "  </thead>\n",
       "  <tbody>\n",
       "    <tr>\n",
       "      <th>4104</th>\n",
       "      <td>Vi James Bay</td>\n",
       "      <td>0</td>\n",
       "      <td>1</td>\n",
       "      <td>481.0</td>\n",
       "      <td>425.0</td>\n",
       "      <td>1973</td>\n",
       "      <td>V8V</td>\n",
       "      <td>2021</td>\n",
       "      <td>2</td>\n",
       "      <td>Condo</td>\n",
       "    </tr>\n",
       "    <tr>\n",
       "      <th>1143</th>\n",
       "      <td>Vi Jubilee</td>\n",
       "      <td>2</td>\n",
       "      <td>2</td>\n",
       "      <td>1131.0</td>\n",
       "      <td>1291.0</td>\n",
       "      <td>1976</td>\n",
       "      <td>V8R</td>\n",
       "      <td>2022</td>\n",
       "      <td>7</td>\n",
       "      <td>Home</td>\n",
       "    </tr>\n",
       "    <tr>\n",
       "      <th>2488</th>\n",
       "      <td>Vi Downtown</td>\n",
       "      <td>1</td>\n",
       "      <td>1</td>\n",
       "      <td>562.0</td>\n",
       "      <td>562.0</td>\n",
       "      <td>2008</td>\n",
       "      <td>V8W</td>\n",
       "      <td>2021</td>\n",
       "      <td>10</td>\n",
       "      <td>Condo</td>\n",
       "    </tr>\n",
       "    <tr>\n",
       "      <th>9890</th>\n",
       "      <td>Vi Downtown</td>\n",
       "      <td>1</td>\n",
       "      <td>1</td>\n",
       "      <td>563.0</td>\n",
       "      <td>563.0</td>\n",
       "      <td>2017</td>\n",
       "      <td>V8W</td>\n",
       "      <td>2017</td>\n",
       "      <td>1</td>\n",
       "      <td>Condo</td>\n",
       "    </tr>\n",
       "    <tr>\n",
       "      <th>9626</th>\n",
       "      <td>Vi Downtown</td>\n",
       "      <td>1</td>\n",
       "      <td>1</td>\n",
       "      <td>607.0</td>\n",
       "      <td>607.0</td>\n",
       "      <td>2008</td>\n",
       "      <td>V8W</td>\n",
       "      <td>2017</td>\n",
       "      <td>3</td>\n",
       "      <td>Condo</td>\n",
       "    </tr>\n",
       "    <tr>\n",
       "      <th>...</th>\n",
       "      <td>...</td>\n",
       "      <td>...</td>\n",
       "      <td>...</td>\n",
       "      <td>...</td>\n",
       "      <td>...</td>\n",
       "      <td>...</td>\n",
       "      <td>...</td>\n",
       "      <td>...</td>\n",
       "      <td>...</td>\n",
       "      <td>...</td>\n",
       "    </tr>\n",
       "    <tr>\n",
       "      <th>12080</th>\n",
       "      <td>Vi Fairfield East</td>\n",
       "      <td>3</td>\n",
       "      <td>3</td>\n",
       "      <td>2283.0</td>\n",
       "      <td>5200.0</td>\n",
       "      <td>2015</td>\n",
       "      <td>V8S</td>\n",
       "      <td>2015</td>\n",
       "      <td>10</td>\n",
       "      <td>Home</td>\n",
       "    </tr>\n",
       "    <tr>\n",
       "      <th>13813</th>\n",
       "      <td>Vi Oaklands</td>\n",
       "      <td>2</td>\n",
       "      <td>1</td>\n",
       "      <td>1150.0</td>\n",
       "      <td>4950.0</td>\n",
       "      <td>1949</td>\n",
       "      <td>V8T</td>\n",
       "      <td>2014</td>\n",
       "      <td>8</td>\n",
       "      <td>Home</td>\n",
       "    </tr>\n",
       "    <tr>\n",
       "      <th>14034</th>\n",
       "      <td>Vi Fairfield West</td>\n",
       "      <td>4</td>\n",
       "      <td>2</td>\n",
       "      <td>2466.0</td>\n",
       "      <td>7182.0</td>\n",
       "      <td>1949</td>\n",
       "      <td>V8S</td>\n",
       "      <td>2014</td>\n",
       "      <td>7</td>\n",
       "      <td>Home</td>\n",
       "    </tr>\n",
       "    <tr>\n",
       "      <th>8446</th>\n",
       "      <td>Vi Downtown</td>\n",
       "      <td>1</td>\n",
       "      <td>1</td>\n",
       "      <td>536.0</td>\n",
       "      <td>568.0</td>\n",
       "      <td>2010</td>\n",
       "      <td>V8W</td>\n",
       "      <td>2017</td>\n",
       "      <td>11</td>\n",
       "      <td>Home</td>\n",
       "    </tr>\n",
       "    <tr>\n",
       "      <th>5523</th>\n",
       "      <td>Vi Fairfield West</td>\n",
       "      <td>2</td>\n",
       "      <td>2</td>\n",
       "      <td>1132.0</td>\n",
       "      <td>1307.0</td>\n",
       "      <td>1972</td>\n",
       "      <td>V8V</td>\n",
       "      <td>2020</td>\n",
       "      <td>2</td>\n",
       "      <td>Home</td>\n",
       "    </tr>\n",
       "  </tbody>\n",
       "</table>\n",
       "<p>4941 rows × 10 columns</p>\n",
       "</div>"
      ],
      "text/plain": [
       "                    Area  Beds  Baths    Sqft     Lot  Built   PC  Year  \\\n",
       "4104        Vi James Bay     0      1   481.0   425.0   1973  V8V  2021   \n",
       "1143          Vi Jubilee     2      2  1131.0  1291.0   1976  V8R  2022   \n",
       "2488         Vi Downtown     1      1   562.0   562.0   2008  V8W  2021   \n",
       "9890         Vi Downtown     1      1   563.0   563.0   2017  V8W  2017   \n",
       "9626         Vi Downtown     1      1   607.0   607.0   2008  V8W  2017   \n",
       "...                  ...   ...    ...     ...     ...    ...  ...   ...   \n",
       "12080  Vi Fairfield East     3      3  2283.0  5200.0   2015  V8S  2015   \n",
       "13813        Vi Oaklands     2      1  1150.0  4950.0   1949  V8T  2014   \n",
       "14034  Vi Fairfield West     4      2  2466.0  7182.0   1949  V8S  2014   \n",
       "8446         Vi Downtown     1      1   536.0   568.0   2010  V8W  2017   \n",
       "5523   Vi Fairfield West     2      2  1132.0  1307.0   1972  V8V  2020   \n",
       "\n",
       "       Month House_type  \n",
       "4104       2      Condo  \n",
       "1143       7       Home  \n",
       "2488      10      Condo  \n",
       "9890       1      Condo  \n",
       "9626       3      Condo  \n",
       "...      ...        ...  \n",
       "12080     10       Home  \n",
       "13813      8       Home  \n",
       "14034      7       Home  \n",
       "8446      11       Home  \n",
       "5523       2       Home  \n",
       "\n",
       "[4941 rows x 10 columns]"
      ]
     },
     "execution_count": 515,
     "metadata": {},
     "output_type": "execute_result"
    }
   ],
   "source": [
    "X_test"
   ]
  },
  {
   "cell_type": "code",
   "execution_count": 516,
   "id": "89e61a65",
   "metadata": {},
   "outputs": [],
   "source": [
    "results_df = pd.DataFrame(y_test)"
   ]
  },
  {
   "cell_type": "code",
   "execution_count": 517,
   "id": "4735a959",
   "metadata": {},
   "outputs": [],
   "source": [
    "results_df['Pred'] = np.round(pred, 0)"
   ]
  },
  {
   "cell_type": "code",
   "execution_count": 518,
   "id": "feaa7d41",
   "metadata": {},
   "outputs": [
    {
     "data": {
      "text/html": [
       "<div>\n",
       "<style scoped>\n",
       "    .dataframe tbody tr th:only-of-type {\n",
       "        vertical-align: middle;\n",
       "    }\n",
       "\n",
       "    .dataframe tbody tr th {\n",
       "        vertical-align: top;\n",
       "    }\n",
       "\n",
       "    .dataframe thead th {\n",
       "        text-align: right;\n",
       "    }\n",
       "</style>\n",
       "<table border=\"1\" class=\"dataframe\">\n",
       "  <thead>\n",
       "    <tr style=\"text-align: right;\">\n",
       "      <th></th>\n",
       "      <th>Price</th>\n",
       "      <th>Pred</th>\n",
       "    </tr>\n",
       "  </thead>\n",
       "  <tbody>\n",
       "    <tr>\n",
       "      <th>4104</th>\n",
       "      <td>270000.0</td>\n",
       "      <td>305524.0</td>\n",
       "    </tr>\n",
       "    <tr>\n",
       "      <th>1143</th>\n",
       "      <td>675000.0</td>\n",
       "      <td>561199.0</td>\n",
       "    </tr>\n",
       "    <tr>\n",
       "      <th>2488</th>\n",
       "      <td>428000.0</td>\n",
       "      <td>450699.0</td>\n",
       "    </tr>\n",
       "    <tr>\n",
       "      <th>9890</th>\n",
       "      <td>424900.0</td>\n",
       "      <td>376177.0</td>\n",
       "    </tr>\n",
       "    <tr>\n",
       "      <th>9626</th>\n",
       "      <td>354000.0</td>\n",
       "      <td>372832.0</td>\n",
       "    </tr>\n",
       "    <tr>\n",
       "      <th>...</th>\n",
       "      <td>...</td>\n",
       "      <td>...</td>\n",
       "    </tr>\n",
       "    <tr>\n",
       "      <th>12080</th>\n",
       "      <td>959000.0</td>\n",
       "      <td>1031697.0</td>\n",
       "    </tr>\n",
       "    <tr>\n",
       "      <th>13813</th>\n",
       "      <td>399000.0</td>\n",
       "      <td>449075.0</td>\n",
       "    </tr>\n",
       "    <tr>\n",
       "      <th>14034</th>\n",
       "      <td>849000.0</td>\n",
       "      <td>653050.0</td>\n",
       "    </tr>\n",
       "    <tr>\n",
       "      <th>8446</th>\n",
       "      <td>362500.0</td>\n",
       "      <td>340154.0</td>\n",
       "    </tr>\n",
       "    <tr>\n",
       "      <th>5523</th>\n",
       "      <td>456000.0</td>\n",
       "      <td>406629.0</td>\n",
       "    </tr>\n",
       "  </tbody>\n",
       "</table>\n",
       "<p>4941 rows × 2 columns</p>\n",
       "</div>"
      ],
      "text/plain": [
       "          Price       Pred\n",
       "4104   270000.0   305524.0\n",
       "1143   675000.0   561199.0\n",
       "2488   428000.0   450699.0\n",
       "9890   424900.0   376177.0\n",
       "9626   354000.0   372832.0\n",
       "...         ...        ...\n",
       "12080  959000.0  1031697.0\n",
       "13813  399000.0   449075.0\n",
       "14034  849000.0   653050.0\n",
       "8446   362500.0   340154.0\n",
       "5523   456000.0   406629.0\n",
       "\n",
       "[4941 rows x 2 columns]"
      ]
     },
     "execution_count": 518,
     "metadata": {},
     "output_type": "execute_result"
    }
   ],
   "source": [
    "results_df"
   ]
  },
  {
   "cell_type": "code",
   "execution_count": 519,
   "id": "3ccb4431",
   "metadata": {
    "scrolled": true
   },
   "outputs": [
    {
     "name": "stdout",
     "output_type": "stream",
     "text": [
      "$145638.34\n"
     ]
    }
   ],
   "source": [
    "print(f\"${np.round(np.sqrt(mean_squared_error(y_test, pred)), 2)}\")"
   ]
  },
  {
   "cell_type": "code",
   "execution_count": 1,
   "id": "50c50cd6",
   "metadata": {},
   "outputs": [],
   "source": [
    "from joblib import dump, load"
   ]
  },
  {
   "cell_type": "code",
   "execution_count": 302,
   "id": "db8d34fb",
   "metadata": {},
   "outputs": [
    {
     "data": {
      "text/plain": [
       "['vic_housing_prediction_gbrmodel.joblib']"
      ]
     },
     "execution_count": 302,
     "metadata": {},
     "output_type": "execute_result"
    }
   ],
   "source": [
    "dump(gbrt_pipeline, 'vic_housing_prediction_gbrmodel.joblib')"
   ]
  },
  {
   "cell_type": "code",
   "execution_count": 2,
   "id": "ce280ed6",
   "metadata": {},
   "outputs": [],
   "source": [
    "model = load('vic_housing_prediction_gbrmodel.joblib')"
   ]
  },
  {
   "cell_type": "code",
   "execution_count": 3,
   "id": "6a76f58e",
   "metadata": {},
   "outputs": [],
   "source": [
    "columns = load('vic_housing_columns.joblib')"
   ]
  },
  {
   "cell_type": "code",
   "execution_count": 4,
   "id": "3a7dd017",
   "metadata": {},
   "outputs": [
    {
     "data": {
      "text/plain": [
       "Index(['Area', 'Beds', 'Baths', 'Sqft', 'Lot', 'Built', 'PC', 'Year', 'Month',\n",
       "       'House_type'],\n",
       "      dtype='object')"
      ]
     },
     "execution_count": 4,
     "metadata": {},
     "output_type": "execute_result"
    }
   ],
   "source": [
    "columns"
   ]
  },
  {
   "cell_type": "code",
   "execution_count": 308,
   "id": "7f19f03f",
   "metadata": {},
   "outputs": [
    {
     "data": {
      "text/plain": [
       "0        7\n",
       "1        7\n",
       "2        7\n",
       "3        7\n",
       "4        7\n",
       "        ..\n",
       "15056    7\n",
       "15057    7\n",
       "15058    7\n",
       "15059    7\n",
       "15060    7\n",
       "Name: Month, Length: 14970, dtype: int32"
      ]
     },
     "execution_count": 308,
     "metadata": {},
     "output_type": "execute_result"
    }
   ],
   "source": [
    "X.Month"
   ]
  },
  {
   "cell_type": "code",
   "execution_count": 26,
   "id": "ee22d2a7",
   "metadata": {},
   "outputs": [],
   "source": [
    "data = ['Vi Downtown', 0, 1, 2000, 2000, 2020, 'V8W', 2023, 7, 'Condo']"
   ]
  },
  {
   "cell_type": "code",
   "execution_count": 537,
   "id": "55e4f8df",
   "metadata": {},
   "outputs": [
    {
     "data": {
      "text/plain": [
       "Index(['Area', 'Beds', 'Baths', 'Sqft', 'Lot', 'Built', 'PC', 'Year', 'Month',\n",
       "       'House_type'],\n",
       "      dtype='object')"
      ]
     },
     "execution_count": 537,
     "metadata": {},
     "output_type": "execute_result"
    }
   ],
   "source": [
    "X.columns"
   ]
  },
  {
   "cell_type": "code",
   "execution_count": 538,
   "id": "3886ac93",
   "metadata": {},
   "outputs": [
    {
     "data": {
      "text/plain": [
       "array(['V8V', 'V8T', 'V9A', 'V8R', 'V8S', 'V8W', 'V8Z', 'V8X', 'V8Y',\n",
       "       'V9B', 'V9C', 'V8A', 'V9K', 'V3V', 'V9S', 'V8L', 'V9Y', 'V6V',\n",
       "       'V8P', 'V9V', 'V8N', 'V9L', 'V6Z', 'V9W', 'V0R', 'V9Z', 'V8M',\n",
       "       'V9R', 'V8D', 'V0N', 'V9E', 'V5R', 'V7X', 'V5Y', 'V8B', 'V9T',\n",
       "       'V6S'], dtype=object)"
      ]
     },
     "execution_count": 538,
     "metadata": {},
     "output_type": "execute_result"
    }
   ],
   "source": [
    "X.PC.unique()"
   ]
  },
  {
   "cell_type": "code",
   "execution_count": 539,
   "id": "9b7be5ce",
   "metadata": {},
   "outputs": [
    {
     "data": {
      "text/plain": [
       "array(['Vi Downtown', 'Vi Hillside', 'Vi Burnside', 'Vi Jubilee',\n",
       "       'Vi Rockland', 'Vi Oaklands', 'Vi James Bay', 'VW Victoria West',\n",
       "       'Vi Mayfair', 'Vi Fairfield West', 'Vi Fernwood',\n",
       "       'Vi Fairfield East', 'Vi Central Park'], dtype=object)"
      ]
     },
     "execution_count": 539,
     "metadata": {},
     "output_type": "execute_result"
    }
   ],
   "source": [
    "X.Area.unique()"
   ]
  },
  {
   "cell_type": "code",
   "execution_count": 451,
   "id": "a95d0707",
   "metadata": {},
   "outputs": [
    {
     "data": {
      "text/plain": [
       "array([ 2,  1,  4,  3,  7,  5,  6,  0,  9,  8, 11, 10])"
      ]
     },
     "execution_count": 451,
     "metadata": {},
     "output_type": "execute_result"
    }
   ],
   "source": [
    "vic_prop_df.Baths.unique()"
   ]
  },
  {
   "cell_type": "code",
   "execution_count": 27,
   "id": "36c4d963",
   "metadata": {
    "scrolled": true
   },
   "outputs": [],
   "source": [
    "df = pd.DataFrame(data)"
   ]
  },
  {
   "cell_type": "code",
   "execution_count": 28,
   "id": "f5ab27c5",
   "metadata": {},
   "outputs": [],
   "source": [
    "df = df.transpose()"
   ]
  },
  {
   "cell_type": "code",
   "execution_count": 29,
   "id": "178016d3",
   "metadata": {},
   "outputs": [],
   "source": [
    "df.columns = columns"
   ]
  },
  {
   "cell_type": "code",
   "execution_count": 30,
   "id": "4f51a54a",
   "metadata": {
    "scrolled": false
   },
   "outputs": [
    {
     "data": {
      "text/plain": [
       "array([2471202.2281487])"
      ]
     },
     "execution_count": 30,
     "metadata": {},
     "output_type": "execute_result"
    }
   ],
   "source": [
    "model.predict(df)"
   ]
  },
  {
   "cell_type": "code",
   "execution_count": 6,
   "id": "3b2c598c",
   "metadata": {
    "scrolled": true
   },
   "outputs": [],
   "source": [
    "prop_df = pd.read_csv('Vic_prop_listings.csv')"
   ]
  },
  {
   "cell_type": "code",
   "execution_count": 8,
   "id": "3966134f",
   "metadata": {},
   "outputs": [],
   "source": [
    "prop_df = prop_df.drop('Unnamed: 0', axis=1)"
   ]
  },
  {
   "cell_type": "code",
   "execution_count": 9,
   "id": "48b7c0c7",
   "metadata": {},
   "outputs": [
    {
     "data": {
      "text/html": [
       "<div>\n",
       "<style scoped>\n",
       "    .dataframe tbody tr th:only-of-type {\n",
       "        vertical-align: middle;\n",
       "    }\n",
       "\n",
       "    .dataframe tbody tr th {\n",
       "        vertical-align: top;\n",
       "    }\n",
       "\n",
       "    .dataframe thead th {\n",
       "        text-align: right;\n",
       "    }\n",
       "</style>\n",
       "<table border=\"1\" class=\"dataframe\">\n",
       "  <thead>\n",
       "    <tr style=\"text-align: right;\">\n",
       "      <th></th>\n",
       "      <th>MLS#</th>\n",
       "      <th>Address</th>\n",
       "      <th>Area</th>\n",
       "      <th>Sold_date</th>\n",
       "      <th>Price</th>\n",
       "      <th>Beds</th>\n",
       "      <th>Baths</th>\n",
       "      <th>Sqft</th>\n",
       "      <th>Lot</th>\n",
       "      <th>Built</th>\n",
       "      <th>Desc</th>\n",
       "      <th>PC</th>\n",
       "      <th>House_type</th>\n",
       "      <th>Year</th>\n",
       "      <th>Month</th>\n",
       "      <th>Street_address</th>\n",
       "      <th>Street_num</th>\n",
       "      <th>Street_name</th>\n",
       "    </tr>\n",
       "  </thead>\n",
       "  <tbody>\n",
       "    <tr>\n",
       "      <th>0</th>\n",
       "      <td>927966</td>\n",
       "      <td>1034 Johnson St # 803, Victoria BC V8V 3N7</td>\n",
       "      <td>Vi Downtown</td>\n",
       "      <td>2023-07-10</td>\n",
       "      <td>585000.0</td>\n",
       "      <td>2</td>\n",
       "      <td>2</td>\n",
       "      <td>1134.00</td>\n",
       "      <td>1107.0</td>\n",
       "      <td>1983</td>\n",
       "      <td>Corner Lot, Rectangular Lot, Serviced</td>\n",
       "      <td>V8V</td>\n",
       "      <td>Condo</td>\n",
       "      <td>2023</td>\n",
       "      <td>7</td>\n",
       "      <td>1034 Johnson</td>\n",
       "      <td>1034</td>\n",
       "      <td>Johnson</td>\n",
       "    </tr>\n",
       "    <tr>\n",
       "      <th>1</th>\n",
       "      <td>934902</td>\n",
       "      <td>755 Hillside Ave # 406, Victoria BC V8T 5B3</td>\n",
       "      <td>Vi Hillside</td>\n",
       "      <td>2023-07-10</td>\n",
       "      <td>415000.0</td>\n",
       "      <td>2</td>\n",
       "      <td>1</td>\n",
       "      <td>1088.00</td>\n",
       "      <td>1088.0</td>\n",
       "      <td>1982</td>\n",
       "      <td>Irregular Lot</td>\n",
       "      <td>V8T</td>\n",
       "      <td>Condo</td>\n",
       "      <td>2023</td>\n",
       "      <td>7</td>\n",
       "      <td>755 Hillside</td>\n",
       "      <td>755</td>\n",
       "      <td>Hillside</td>\n",
       "    </tr>\n",
       "    <tr>\n",
       "      <th>2</th>\n",
       "      <td>927416</td>\n",
       "      <td>3160 Irma St # 106, Victoria BC V9A 1S8</td>\n",
       "      <td>Vi Burnside</td>\n",
       "      <td>2023-07-10</td>\n",
       "      <td>375000.0</td>\n",
       "      <td>1</td>\n",
       "      <td>1</td>\n",
       "      <td>892.00</td>\n",
       "      <td>774.0</td>\n",
       "      <td>1972</td>\n",
       "      <td>Level, Private, Serviced</td>\n",
       "      <td>V9A</td>\n",
       "      <td>Condo</td>\n",
       "      <td>2023</td>\n",
       "      <td>7</td>\n",
       "      <td>3160 Irma</td>\n",
       "      <td>3160</td>\n",
       "      <td>Irma</td>\n",
       "    </tr>\n",
       "    <tr>\n",
       "      <th>3</th>\n",
       "      <td>931182</td>\n",
       "      <td>1975 Lee Ave # 209, Victoria BC V8R 4W9</td>\n",
       "      <td>Vi Jubilee</td>\n",
       "      <td>2023-07-10</td>\n",
       "      <td>365000.0</td>\n",
       "      <td>1</td>\n",
       "      <td>1</td>\n",
       "      <td>642.71</td>\n",
       "      <td>617.0</td>\n",
       "      <td>1958</td>\n",
       "      <td>Rectangular Lot</td>\n",
       "      <td>V8R</td>\n",
       "      <td>Condo</td>\n",
       "      <td>2023</td>\n",
       "      <td>7</td>\n",
       "      <td>1975 Lee</td>\n",
       "      <td>1975</td>\n",
       "      <td>Lee</td>\n",
       "    </tr>\n",
       "    <tr>\n",
       "      <th>4</th>\n",
       "      <td>926214</td>\n",
       "      <td>1170 Rockland Ave # 304, Victoria BC V8V 3H7</td>\n",
       "      <td>Vi Downtown</td>\n",
       "      <td>2023-07-07</td>\n",
       "      <td>565000.0</td>\n",
       "      <td>2</td>\n",
       "      <td>2</td>\n",
       "      <td>1064.00</td>\n",
       "      <td>981.0</td>\n",
       "      <td>1977</td>\n",
       "      <td>Central Location, Easy Access, Recreation Near...</td>\n",
       "      <td>V8V</td>\n",
       "      <td>Condo</td>\n",
       "      <td>2023</td>\n",
       "      <td>7</td>\n",
       "      <td>1170 Rockland</td>\n",
       "      <td>1170</td>\n",
       "      <td>Rockland</td>\n",
       "    </tr>\n",
       "    <tr>\n",
       "      <th>...</th>\n",
       "      <td>...</td>\n",
       "      <td>...</td>\n",
       "      <td>...</td>\n",
       "      <td>...</td>\n",
       "      <td>...</td>\n",
       "      <td>...</td>\n",
       "      <td>...</td>\n",
       "      <td>...</td>\n",
       "      <td>...</td>\n",
       "      <td>...</td>\n",
       "      <td>...</td>\n",
       "      <td>...</td>\n",
       "      <td>...</td>\n",
       "      <td>...</td>\n",
       "      <td>...</td>\n",
       "      <td>...</td>\n",
       "      <td>...</td>\n",
       "      <td>...</td>\n",
       "    </tr>\n",
       "    <tr>\n",
       "      <th>14970</th>\n",
       "      <td>645388</td>\n",
       "      <td>1725 Carrick St, Victoria BC V8R 2M1</td>\n",
       "      <td>Vi Jubilee</td>\n",
       "      <td>2013-07-31</td>\n",
       "      <td>434000.0</td>\n",
       "      <td>3</td>\n",
       "      <td>1</td>\n",
       "      <td>2022.00</td>\n",
       "      <td>7475.0</td>\n",
       "      <td>1949</td>\n",
       "      <td>Rectangular Lot</td>\n",
       "      <td>V8R</td>\n",
       "      <td>House</td>\n",
       "      <td>2013</td>\n",
       "      <td>7</td>\n",
       "      <td>1725 Carrick</td>\n",
       "      <td>1725</td>\n",
       "      <td>Carrick</td>\n",
       "    </tr>\n",
       "    <tr>\n",
       "      <th>14971</th>\n",
       "      <td>636474</td>\n",
       "      <td>21 Erie St # 414, Victoria BC V8V 5A8</td>\n",
       "      <td>Vi James Bay</td>\n",
       "      <td>2013-07-31</td>\n",
       "      <td>389000.0</td>\n",
       "      <td>1</td>\n",
       "      <td>1</td>\n",
       "      <td>902.00</td>\n",
       "      <td>902.0</td>\n",
       "      <td>2004</td>\n",
       "      <td>Rectangular Lot</td>\n",
       "      <td>V8V</td>\n",
       "      <td>Condo</td>\n",
       "      <td>2013</td>\n",
       "      <td>7</td>\n",
       "      <td>21 Erie</td>\n",
       "      <td>21</td>\n",
       "      <td>Erie</td>\n",
       "    </tr>\n",
       "    <tr>\n",
       "      <th>14972</th>\n",
       "      <td>645377</td>\n",
       "      <td>707 Courtney St # 901, Victoria BC V8W 0A9</td>\n",
       "      <td>Vi Downtown</td>\n",
       "      <td>2013-07-31</td>\n",
       "      <td>336500.0</td>\n",
       "      <td>1</td>\n",
       "      <td>1</td>\n",
       "      <td>803.00</td>\n",
       "      <td>803.0</td>\n",
       "      <td>2009</td>\n",
       "      <td>Irregular Lot</td>\n",
       "      <td>V8W</td>\n",
       "      <td>Condo</td>\n",
       "      <td>2013</td>\n",
       "      <td>7</td>\n",
       "      <td>707 Courtney</td>\n",
       "      <td>707</td>\n",
       "      <td>Courtney</td>\n",
       "    </tr>\n",
       "    <tr>\n",
       "      <th>14973</th>\n",
       "      <td>638821</td>\n",
       "      <td>640 Montreal St # 102, Victoria BC V8V 1Z8</td>\n",
       "      <td>Vi James Bay</td>\n",
       "      <td>2013-07-31</td>\n",
       "      <td>452500.0</td>\n",
       "      <td>2</td>\n",
       "      <td>2</td>\n",
       "      <td>1106.00</td>\n",
       "      <td>1106.0</td>\n",
       "      <td>1981</td>\n",
       "      <td>Dock/Moorage, Irregular Lot</td>\n",
       "      <td>V8V</td>\n",
       "      <td>Condo</td>\n",
       "      <td>2013</td>\n",
       "      <td>7</td>\n",
       "      <td>640 Montreal</td>\n",
       "      <td>640</td>\n",
       "      <td>Montreal</td>\n",
       "    </tr>\n",
       "    <tr>\n",
       "      <th>14974</th>\n",
       "      <td>636260</td>\n",
       "      <td>2658 Belmont Ave, Victoria BC V8R 4A6</td>\n",
       "      <td>Vi Oaklands</td>\n",
       "      <td>2013-07-30</td>\n",
       "      <td>490000.0</td>\n",
       "      <td>3</td>\n",
       "      <td>2</td>\n",
       "      <td>1697.00</td>\n",
       "      <td>5500.0</td>\n",
       "      <td>1942</td>\n",
       "      <td>Rectangular Lot</td>\n",
       "      <td>V8R</td>\n",
       "      <td>House</td>\n",
       "      <td>2013</td>\n",
       "      <td>7</td>\n",
       "      <td>2658 Belmont</td>\n",
       "      <td>2658</td>\n",
       "      <td>Belmont</td>\n",
       "    </tr>\n",
       "  </tbody>\n",
       "</table>\n",
       "<p>14975 rows × 18 columns</p>\n",
       "</div>"
      ],
      "text/plain": [
       "         MLS#                                       Address          Area  \\\n",
       "0      927966    1034 Johnson St # 803, Victoria BC V8V 3N7   Vi Downtown   \n",
       "1      934902   755 Hillside Ave # 406, Victoria BC V8T 5B3   Vi Hillside   \n",
       "2      927416       3160 Irma St # 106, Victoria BC V9A 1S8   Vi Burnside   \n",
       "3      931182       1975 Lee Ave # 209, Victoria BC V8R 4W9    Vi Jubilee   \n",
       "4      926214  1170 Rockland Ave # 304, Victoria BC V8V 3H7   Vi Downtown   \n",
       "...       ...                                           ...           ...   \n",
       "14970  645388          1725 Carrick St, Victoria BC V8R 2M1    Vi Jubilee   \n",
       "14971  636474         21 Erie St # 414, Victoria BC V8V 5A8  Vi James Bay   \n",
       "14972  645377    707 Courtney St # 901, Victoria BC V8W 0A9   Vi Downtown   \n",
       "14973  638821    640 Montreal St # 102, Victoria BC V8V 1Z8  Vi James Bay   \n",
       "14974  636260         2658 Belmont Ave, Victoria BC V8R 4A6   Vi Oaklands   \n",
       "\n",
       "        Sold_date     Price  Beds  Baths     Sqft     Lot  Built  \\\n",
       "0      2023-07-10  585000.0     2      2  1134.00  1107.0   1983   \n",
       "1      2023-07-10  415000.0     2      1  1088.00  1088.0   1982   \n",
       "2      2023-07-10  375000.0     1      1   892.00   774.0   1972   \n",
       "3      2023-07-10  365000.0     1      1   642.71   617.0   1958   \n",
       "4      2023-07-07  565000.0     2      2  1064.00   981.0   1977   \n",
       "...           ...       ...   ...    ...      ...     ...    ...   \n",
       "14970  2013-07-31  434000.0     3      1  2022.00  7475.0   1949   \n",
       "14971  2013-07-31  389000.0     1      1   902.00   902.0   2004   \n",
       "14972  2013-07-31  336500.0     1      1   803.00   803.0   2009   \n",
       "14973  2013-07-31  452500.0     2      2  1106.00  1106.0   1981   \n",
       "14974  2013-07-30  490000.0     3      2  1697.00  5500.0   1942   \n",
       "\n",
       "                                                    Desc   PC House_type  \\\n",
       "0                  Corner Lot, Rectangular Lot, Serviced  V8V      Condo   \n",
       "1                                          Irregular Lot  V8T      Condo   \n",
       "2                               Level, Private, Serviced  V9A      Condo   \n",
       "3                                        Rectangular Lot  V8R      Condo   \n",
       "4      Central Location, Easy Access, Recreation Near...  V8V      Condo   \n",
       "...                                                  ...  ...        ...   \n",
       "14970                                    Rectangular Lot  V8R      House   \n",
       "14971                                    Rectangular Lot  V8V      Condo   \n",
       "14972                                      Irregular Lot  V8W      Condo   \n",
       "14973                        Dock/Moorage, Irregular Lot  V8V      Condo   \n",
       "14974                                    Rectangular Lot  V8R      House   \n",
       "\n",
       "       Year  Month Street_address Street_num Street_name  \n",
       "0      2023      7   1034 Johnson       1034     Johnson  \n",
       "1      2023      7   755 Hillside        755    Hillside  \n",
       "2      2023      7      3160 Irma       3160        Irma  \n",
       "3      2023      7       1975 Lee       1975         Lee  \n",
       "4      2023      7  1170 Rockland       1170    Rockland  \n",
       "...     ...    ...            ...        ...         ...  \n",
       "14970  2013      7   1725 Carrick       1725     Carrick  \n",
       "14971  2013      7        21 Erie         21        Erie  \n",
       "14972  2013      7   707 Courtney        707    Courtney  \n",
       "14973  2013      7   640 Montreal        640    Montreal  \n",
       "14974  2013      7   2658 Belmont       2658     Belmont  \n",
       "\n",
       "[14975 rows x 18 columns]"
      ]
     },
     "execution_count": 9,
     "metadata": {},
     "output_type": "execute_result"
    }
   ],
   "source": [
    "prop_df"
   ]
  },
  {
   "cell_type": "code",
   "execution_count": 13,
   "id": "d5222285",
   "metadata": {},
   "outputs": [],
   "source": [
    "import plotly.offline as pyo\n",
    "import plotly.graph_objects as go"
   ]
  },
  {
   "cell_type": "code",
   "execution_count": 16,
   "id": "2864ea39",
   "metadata": {},
   "outputs": [
    {
     "data": {
      "text/plain": [
       "'temp-plot.html'"
      ]
     },
     "execution_count": 16,
     "metadata": {},
     "output_type": "execute_result"
    }
   ],
   "source": [
    "data = [go.Scatter(x=prop_df['Price'], y=prop_df['Sqft'], )]\n",
    "pyo.plot(data)"
   ]
  },
  {
   "cell_type": "code",
   "execution_count": 80,
   "id": "13a68010",
   "metadata": {
    "scrolled": true
   },
   "outputs": [
    {
     "data": {
      "image/png": "[encoded data removed]",
      "text/plain": [
       "<Figure size 1200x800 with 1 Axes>"
      ]
     },
     "metadata": {},
     "output_type": "display_data"
    }
   ],
   "source": [
    "figure, ax = plt.subplots(figsize=(12,8))\n",
    "sns.scatterplot(data=prop_df, x=prop_df.Sqft/1000, y=prop_df.Price/1000000, hue='House_type', palette=['#022C43', '#FFC045'])\n",
    "plt.xticks(color='#022C43', fontsize=16)\n",
    "plt.yticks(color='#022C43', fontsize=16)\n",
    "plt.xlabel('Sq Footage (thousands)', color='#022C43', fontsize=18)\n",
    "plt.ylabel('Price (millions)', color='#022C43', fontsize=18)\n",
    "plt.legend(frameon=False, facecolor='#fff', fontsize=18)\n",
    "plt.title('House Sq Footage vs Price', color='#002c43', fontsize=20, y=1.05)\n",
    "sns.despine()\n",
    "ax.spines['left'].set_color('#022c43')\n",
    "ax.spines['bottom'].set_color('#022c43')\n",
    "ax.ticklabel_format(style='plain')\n",
    "figure.set_alpha(0)\n",
    "ax.set_facecolor('#fff')\n",
    "plt.savefig('Sqft_vs_price.png', format='png', dpi=300, );"
   ]
  },
  {
   "cell_type": "code",
   "execution_count": 79,
   "id": "28c07a57",
   "metadata": {
    "scrolled": false
   },
   "outputs": [
    {
     "data": {
      "image/png": "[encoded data removed]",
      "text/plain": [
       "<Figure size 1200x800 with 1 Axes>"
      ]
     },
     "metadata": {},
     "output_type": "display_data"
    }
   ],
   "source": [
    "data = prop_df.groupby('PC').Price.mean().sort_values()\n",
    "data.columns = ['Price']\n",
    "figure, ax = plt.subplots(figsize=(12,8))\n",
    "sns.barplot(x=data.index, y=data/1000000, palette=color)\n",
    "plt.xticks(rotation=90, color='#022C43', fontsize=16)\n",
    "plt.yticks(color='#022C43', fontsize=16)\n",
    "plt.xlabel('Postal Code', color='#022C43', fontsize=18)\n",
    "plt.ylabel('Mean Price (millions)', color='#022C43', fontsize=18)\n",
    "plt.title('Mean Property Price by Postal Code', color='#002c43', fontsize=20, y=1.05)\n",
    "sns.despine()\n",
    "ax.spines['left'].set_color('#022c43')\n",
    "ax.spines['bottom'].set_color('#022c43')\n",
    "figure.set_alpha(0)\n",
    "ax.set_facecolor('#fff')\n",
    "plt.savefig('PC_vs_price.png', format='png', dpi=300);\n"
   ]
  },
  {
   "cell_type": "code",
   "execution_count": 32,
   "id": "69e80db2",
   "metadata": {},
   "outputs": [],
   "source": [
    "def colorFader(c1,c2,mix=0): #fade (linear interpolate) from color c1 (at mix=0) to c2 (mix=1)\n",
    "    c1=np.array(mpl.colors.to_rgb(c1))\n",
    "    c2=np.array(mpl.colors.to_rgb(c2))\n",
    "    return [mpl.colors.to_hex((1-m)*c1 + m*c2) for m in mix]"
   ]
  },
  {
   "cell_type": "code",
   "execution_count": 35,
   "id": "af29c3a5",
   "metadata": {},
   "outputs": [
    {
     "data": {
      "text/plain": [
       "'#4aace1'"
      ]
     },
     "execution_count": 35,
     "metadata": {},
     "output_type": "execute_result"
    }
   ],
   "source": [
    "c1=np.array(mpl.colors.to_rgb(c1))\n",
    "mpl.colors.to_hex(c1)"
   ]
  },
  {
   "cell_type": "code",
   "execution_count": 38,
   "id": "6b79937e",
   "metadata": {},
   "outputs": [],
   "source": [
    "color = colorFader(c1, c2, mix_pcts)"
   ]
  },
  {
   "cell_type": "code",
   "execution_count": 3,
   "id": "45814460",
   "metadata": {},
   "outputs": [],
   "source": [
    "import matplotlib as mpl"
   ]
  },
  {
   "cell_type": "code",
   "execution_count": 34,
   "id": "98cfef67",
   "metadata": {},
   "outputs": [],
   "source": [
    "c1 = '#4AACE1'\n",
    "c2 = '#022C43'"
   ]
  },
  {
   "cell_type": "code",
   "execution_count": 37,
   "id": "4f9fd3bf",
   "metadata": {},
   "outputs": [],
   "source": [
    "mix_pcts = [x/(18) for x in range(18)]"
   ]
  },
  {
   "cell_type": "code",
   "execution_count": 302,
   "id": "00b9c027",
   "metadata": {},
   "outputs": [],
   "source": [
    "rgb_colors = [((1-mix)*c1_rgb + (mix*c2_rgb)) for mix in mix_pcts]"
   ]
  },
  {
   "cell_type": "code",
   "execution_count": 48,
   "id": "d8c98855",
   "metadata": {},
   "outputs": [],
   "source": [
    "condo = prop_df[prop_df['House_type'] == 'Condo']\n",
    "house = prop_df[prop_df['House_type'] == 'House']"
   ]
  },
  {
   "cell_type": "code",
   "execution_count": 78,
   "id": "d8765f17",
   "metadata": {
    "scrolled": true
   },
   "outputs": [
    {
     "data": {
      "image/png": "[encoded data removed]",
      "text/plain": [
       "<Figure size 1200x800 with 1 Axes>"
      ]
     },
     "metadata": {},
     "output_type": "display_data"
    }
   ],
   "source": [
    "condo_data = np.round(condo.groupby('Year').Price.mean(), 2)\n",
    "house_data = np.round(house.groupby('Year').Price.mean(), 2)\n",
    "figure, ax = plt.subplots(figsize=(12,8))\n",
    "sns.lineplot(data=condo_data, x=condo_data.index, y=condo_data/1000000, label='Condo', color='#FFC045', linewidth=3)\n",
    "sns.lineplot(data=house_data, x=house_data.index, y=house_data/1000000, label='House', color='#022C43', linewidth=3)\n",
    "plt.xlabel('Year', fontsize=18, color='#022C43')\n",
    "plt.xticks(color='#022C43', fontsize=16)\n",
    "plt.ylabel('Mean Price (millions)', fontsize=18, color='#022C43')\n",
    "plt.yticks(color='#022C43', fontsize=16)\n",
    "plt.ylim([0, 1.2])\n",
    "legend = ax.legend(labelcolor='#022c43', bbox_to_anchor=(0.2, 1.04), frameon=False)\n",
    "title = legend.get_title()\n",
    "title.set_color('#022c43')\n",
    "title.set_fontsize(16)\n",
    "for text in legend.get_texts():\n",
    "    text.set_fontsize(18)\n",
    "ax.spines['left'].set_color('#022c43')\n",
    "ax.spines['bottom'].set_color('#022c43')\n",
    "ax.ticklabel_format(style='plain')\n",
    "plt.title('Mean Property Price Over Time', color='#002c43', fontsize=20, y=1.05)\n",
    "figure.set_alpha(0)\n",
    "ax.set_facecolor('#fff')\n",
    "sns.despine()\n",
    "plt.savefig('Year_vs_price.png', format='png', dpi=300);"
   ]
  },
  {
   "cell_type": "code",
   "execution_count": null,
   "id": "70a94dc8",
   "metadata": {},
   "outputs": [],
   "source": []
  },
  {
   "cell_type": "code",
   "execution_count": null,
   "id": "338cbbc6",
   "metadata": {},
   "outputs": [],
   "source": []
  }
 ],
 "metadata": {
  "kernelspec": {
   "display_name": "Python 3 (ipykernel)",
   "language": "python",
   "name": "python3"
  },
  "language_info": {
   "codemirror_mode": {
    "name": "ipython",
    "version": 3
   },
   "file_extension": ".py",
   "mimetype": "text/x-python",
   "name": "python",
   "nbconvert_exporter": "python",
   "pygments_lexer": "ipython3",
   "version": "3.10.10"
  }
 },
 "nbformat": 4,
 "nbformat_minor": 5
}
